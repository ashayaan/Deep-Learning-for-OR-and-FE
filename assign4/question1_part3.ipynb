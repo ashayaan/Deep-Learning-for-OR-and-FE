{
 "cells": [
  {
   "cell_type": "markdown",
   "metadata": {
    "ExecuteTime": {
     "end_time": "2018-10-02T12:44:09.131674Z",
     "start_time": "2018-10-02T12:44:09.129175Z"
    }
   },
   "source": [
    "# Import"
   ]
  },
  {
   "cell_type": "code",
   "execution_count": 23,
   "metadata": {
    "ExecuteTime": {
     "end_time": "2018-10-03T22:05:26.310842Z",
     "start_time": "2018-10-03T22:05:10.381461Z"
    }
   },
   "outputs": [
    {
     "name": "stdout",
     "output_type": "stream",
     "text": [
      "Extracting MNIST_data/train-images-idx3-ubyte.gz\n",
      "Extracting MNIST_data/train-labels-idx1-ubyte.gz\n",
      "Extracting MNIST_data/t10k-images-idx3-ubyte.gz\n",
      "Extracting MNIST_data/t10k-labels-idx1-ubyte.gz\n"
     ]
    }
   ],
   "source": [
    "import tensorflow as tf\n",
    "import argparse\n",
    "import os\n",
    "from tensorflow.examples.tutorials.mnist import input_data\n",
    "mnist = input_data.read_data_sets(\"MNIST_data/\", one_hot=True)"
   ]
  },
  {
   "cell_type": "markdown",
   "metadata": {},
   "source": [
    "# Definition of the Architecture"
   ]
  },
  {
   "cell_type": "code",
   "execution_count": 2,
   "metadata": {
    "ExecuteTime": {
     "end_time": "2018-10-03T22:05:26.324885Z",
     "start_time": "2018-10-03T22:05:26.313169Z"
    }
   },
   "outputs": [],
   "source": [
    "# Following Hinton-Salakhutdinov Architecture\n",
    "\n",
    "# 3 hidden layers for encoder\n",
    "n_encoder_h_1 = 1000\n",
    "n_encoder_h_2 = 500\n",
    "n_encoder_h_3 = 250\n",
    "\n",
    "# 3 hidden layers for decoder\n",
    "n_decoder_h_1 = 250\n",
    "n_decoder_h_2 = 500\n",
    "n_decoder_h_3 = 1000\n",
    "\n",
    "# Parameters\n",
    "learning_rate = 0.01\n",
    "training_epochs = 200\n",
    "batch_size = 100\n",
    "display_step = 1"
   ]
  },
  {
   "cell_type": "markdown",
   "metadata": {},
   "source": [
    "# Batch Normalization "
   ]
  },
  {
   "cell_type": "code",
   "execution_count": 3,
   "metadata": {
    "ExecuteTime": {
     "end_time": "2018-10-03T22:05:26.435086Z",
     "start_time": "2018-10-03T22:05:26.382374Z"
    }
   },
   "outputs": [],
   "source": [
    "def layer_batch_normalization(x, n_out, phase_train):\n",
    "    \"\"\"\n",
    "    Defines the network layers\n",
    "    input:\n",
    "        - x: input vector of the layer\n",
    "        - n_out: integer, depth of input maps - number of sample in the batch \n",
    "        - phase_train: boolean tf.Varialbe, true indicates training phase\n",
    "    output:\n",
    "        - batch-normalized maps   \n",
    "    \n",
    "    \n",
    "    \"\"\"\n",
    "\n",
    "    beta_init = tf.constant_initializer(value=0.0, dtype=tf.float32)\n",
    "    beta = tf.get_variable(\"beta\", [n_out], initializer=beta_init)\n",
    "    \n",
    "    gamma_init = tf.constant_initializer(value=1.0, dtype=tf.float32)\n",
    "    gamma = tf.get_variable(\"gamma\", [n_out], initializer=gamma_init)\n",
    "\n",
    "    #tf.nn.moment: https://www.tensorflow.org/api_docs/python/tf/nn/moments\n",
    "    #calculate mean and variance of x\n",
    "    batch_mean, batch_var = tf.nn.moments(x, [0], name='moments')\n",
    "    \n",
    "    #tf.train.ExponentialMovingAverage:\n",
    "    #https://www.tensorflow.org/api_docs/python/tf/train/ExponentialMovingAverage\n",
    "    #Maintains moving averages of variables by employing an exponential decay.\n",
    "    ema = tf.train.ExponentialMovingAverage(decay=0.9)\n",
    "    ema_apply_op = ema.apply([batch_mean, batch_var])\n",
    "    ema_mean, ema_var = ema.average(batch_mean), ema.average(batch_var)\n",
    "    \n",
    "    def mean_var_with_update():\n",
    "        with tf.control_dependencies([ema_apply_op]):\n",
    "            return tf.identity(batch_mean), tf.identity(batch_var)\n",
    "        \n",
    "    #tf.cond: https://www.tensorflow.org/api_docs/python/tf/cond\n",
    "    #Return true_fn() if the predicate pred is true else false_fn()\n",
    "    mean, var = tf.cond(phase_train, mean_var_with_update, lambda: (ema_mean, ema_var))\n",
    "\n",
    "    reshaped_x = tf.reshape(x, [-1, 1, 1, n_out])\n",
    "    normed = tf.nn.batch_norm_with_global_normalization(reshaped_x, mean, var, beta, gamma, 1e-3, True)\n",
    "    \n",
    "    return tf.reshape(normed, [-1, n_out])"
   ]
  },
  {
   "cell_type": "markdown",
   "metadata": {},
   "source": [
    "# Definition of the Layer "
   ]
  },
  {
   "cell_type": "code",
   "execution_count": 4,
   "metadata": {
    "ExecuteTime": {
     "end_time": "2018-10-03T22:05:26.461121Z",
     "start_time": "2018-10-03T22:05:26.444649Z"
    }
   },
   "outputs": [],
   "source": [
    "def layer(x, weight_shape, bias_shape, phase_train):\n",
    "    \n",
    "    \"\"\"\n",
    "    Defines the network layers\n",
    "    input:\n",
    "        - x: input vector of the layer\n",
    "        - weight_shape: shape the the weight maxtrix\n",
    "        - bias_shape: shape of the bias vector\n",
    "        - phase_train: boolean tf.Varialbe, true indicates training phase\n",
    "    output:\n",
    "        - output vector of the layer after the matrix multiplication and non linear transformation\n",
    "    \"\"\"\n",
    "    \n",
    "    #initialize weights\n",
    "    weight_init = tf.random_normal_initializer(stddev=(1.0/weight_shape[0])**0.5)\n",
    "    W = tf.get_variable(\"W\", weight_shape, initializer=weight_init)\n",
    "    \n",
    "    bias_init = tf.constant_initializer(value=0)\n",
    "    b = tf.get_variable(\"b\", bias_shape, initializer=bias_init)\n",
    "\n",
    "    logits = tf.matmul(x, W) + b\n",
    "    \n",
    "    #apply the non-linear function after the batch normalization\n",
    "    return tf.nn.sigmoid(layer_batch_normalization(logits, weight_shape[1], phase_train))"
   ]
  },
  {
   "cell_type": "markdown",
   "metadata": {
    "ExecuteTime": {
     "end_time": "2018-10-02T13:39:04.039484Z",
     "start_time": "2018-10-02T13:39:04.036698Z"
    }
   },
   "source": [
    "# Definition of the Encoder Part"
   ]
  },
  {
   "cell_type": "code",
   "execution_count": 5,
   "metadata": {
    "ExecuteTime": {
     "end_time": "2018-10-03T22:05:26.484126Z",
     "start_time": "2018-10-03T22:05:26.463872Z"
    }
   },
   "outputs": [],
   "source": [
    "def encoder(x, n_code, phase_train):\n",
    "    \n",
    "    \"\"\"\n",
    "    Defines the network encoder part\n",
    "    input:\n",
    "        - x: input vector of the encoder\n",
    "        - n_code: number of neurons in the code layer (output of the encoder - input of the decoder)\n",
    "        - phase_train: boolean tf.Varialbe, true indicates training phase\n",
    "    output:\n",
    "        - output vector: reduced dimension\n",
    "    \"\"\"\n",
    "    \n",
    "    with tf.variable_scope(\"encoder\"):\n",
    "        \n",
    "        with tf.variable_scope(\"h_1\"):\n",
    "            h_1 = layer(x, [784, n_encoder_h_1], [n_encoder_h_1], phase_train)\n",
    "\n",
    "        with tf.variable_scope(\"h_2\"):\n",
    "            h_2 = layer(h_1, [n_encoder_h_1, n_encoder_h_2], [n_encoder_h_2], phase_train)\n",
    "\n",
    "        with tf.variable_scope(\"h_3\"):\n",
    "            h_3 = layer(h_2, [n_encoder_h_2, n_encoder_h_3], [n_encoder_h_3], phase_train)\n",
    "\n",
    "        with tf.variable_scope(\"code\"):\n",
    "            output = layer(h_3, [n_encoder_h_3, n_code], [n_code], phase_train)\n",
    "\n",
    "    return output"
   ]
  },
  {
   "cell_type": "markdown",
   "metadata": {
    "ExecuteTime": {
     "end_time": "2018-10-02T13:39:56.962874Z",
     "start_time": "2018-10-02T13:39:56.960040Z"
    }
   },
   "source": [
    "# Definition of the Decoder Part"
   ]
  },
  {
   "cell_type": "code",
   "execution_count": 6,
   "metadata": {
    "ExecuteTime": {
     "end_time": "2018-10-03T22:05:26.504557Z",
     "start_time": "2018-10-03T22:05:26.486050Z"
    }
   },
   "outputs": [],
   "source": [
    "def decoder(x, n_code, phase_train):\n",
    "    \"\"\"\n",
    "    Defines the network encoder part\n",
    "    input:\n",
    "        - x: input vector of the decoder - reduced dimension vector\n",
    "        - n_code: number of neurons in the code layer (output of the encoder - input of the decoder) \n",
    "        - phase_train: boolean tf.Variablle, true indicates training phase\n",
    "    output:\n",
    "        - output vector: reconstructed dimension of the initial vector\n",
    "    \"\"\"\n",
    "    \n",
    "    with tf.variable_scope(\"decoder\"):\n",
    "        \n",
    "        with tf.variable_scope(\"h_1\"):\n",
    "            h_1 = layer(x, [n_code, n_decoder_h_1], [n_decoder_h_1], phase_train)\n",
    "\n",
    "        with tf.variable_scope(\"h_2\"):\n",
    "            h_2 = layer(h_1, [n_decoder_h_1, n_decoder_h_2], [n_decoder_h_2], phase_train)\n",
    "\n",
    "        with tf.variable_scope(\"h_3\"):\n",
    "            h_3 = layer(h_2, [n_decoder_h_2, n_decoder_h_3], [n_decoder_h_3], phase_train)\n",
    "\n",
    "        with tf.variable_scope(\"output\"):\n",
    "            output = layer(h_3, [n_decoder_h_3, 784], [784], phase_train)\n",
    "\n",
    "    return output"
   ]
  },
  {
   "cell_type": "markdown",
   "metadata": {
    "ExecuteTime": {
     "end_time": "2018-10-02T13:40:11.932837Z",
     "start_time": "2018-10-02T13:40:11.929439Z"
    }
   },
   "source": [
    "# Definition of the Loss"
   ]
  },
  {
   "cell_type": "code",
   "execution_count": 7,
   "metadata": {
    "ExecuteTime": {
     "end_time": "2018-10-03T22:05:26.517979Z",
     "start_time": "2018-10-03T22:05:26.506902Z"
    }
   },
   "outputs": [],
   "source": [
    "def loss(output, x):\n",
    "    \"\"\"\n",
    "    Compute the loss of the auto-encoder\n",
    "    \n",
    "    intput:\n",
    "        - output: the output of the decoder\n",
    "        - x: true value of the sample batch - this is the input of the encoder\n",
    "        \n",
    "        the two have the same shape (batch_size * num_of_classes)\n",
    "    output:\n",
    "        - loss: loss of the corresponding batch (scalar tensor)\n",
    "    \n",
    "    \"\"\"\n",
    "    \n",
    "    with tf.variable_scope(\"training\"):\n",
    "        \n",
    "        l2 = tf.sqrt(tf.reduce_sum(tf.square(tf.subtract(output, x)), 1))\n",
    "        train_loss = tf.reduce_mean(l2)\n",
    "        train_summary_op = tf.summary.scalar(\"train_cost\", train_loss)\n",
    "        return train_loss, train_summary_op"
   ]
  },
  {
   "cell_type": "markdown",
   "metadata": {},
   "source": [
    "# Training Function"
   ]
  },
  {
   "cell_type": "code",
   "execution_count": 8,
   "metadata": {
    "ExecuteTime": {
     "end_time": "2018-10-03T22:05:26.531705Z",
     "start_time": "2018-10-03T22:05:26.520900Z"
    }
   },
   "outputs": [],
   "source": [
    "def training(cost, global_step):\n",
    "    \"\"\"\n",
    "    defines the necessary elements to train the network\n",
    "    \n",
    "    intput:\n",
    "        - cost: the cost is the loss of the corresponding batch\n",
    "        - global_step: number of batch seen so far, it is incremented by one \n",
    "        each time the .minimize() function is called\n",
    "    \"\"\"\n",
    "    \n",
    "    optimizer = tf.train.AdamOptimizer(learning_rate=0.001, beta1=0.9, beta2=0.999, epsilon=1e-08, use_locking=False, name='Adam')\n",
    "    train_op = optimizer.minimize(cost, global_step=global_step)\n",
    "    return train_op"
   ]
  },
  {
   "cell_type": "markdown",
   "metadata": {},
   "source": [
    "# Evaluation Function"
   ]
  },
  {
   "cell_type": "code",
   "execution_count": 9,
   "metadata": {
    "ExecuteTime": {
     "end_time": "2018-10-03T22:05:26.558495Z",
     "start_time": "2018-10-03T22:05:26.534046Z"
    }
   },
   "outputs": [],
   "source": [
    "def evaluate(output, x):\n",
    "    \"\"\"\n",
    "    evaluates the accuracy on the validation set \n",
    "    input:\n",
    "        -output: prediction vector of the network for the validation set\n",
    "        -x: true value for the validation set\n",
    "    output:\n",
    "        - val_loss: loss of the autoencoder\n",
    "        - in_image_op: input image \n",
    "        - out_image_op:reconstructed image \n",
    "        - val_summary_op: summary of the loss\n",
    "    \"\"\"\n",
    "    \n",
    "    with tf.variable_scope(\"validation\"):\n",
    "        \n",
    "        in_image_op = image_summary(\"input_image\", x)\n",
    "        \n",
    "        out_image_op = output\n",
    "        \n",
    "        l2_norm = tf.sqrt(tf.reduce_sum(tf.square(tf.subtract(output, x, name=\"val_diff\")), 1))\n",
    "        \n",
    "        val_loss = tf.reduce_mean(l2_norm)\n",
    "        \n",
    "        val_summary_op = tf.summary.scalar(\"val_cost\", val_loss)\n",
    "        \n",
    "        return val_loss, in_image_op, output, val_summary_op"
   ]
  },
  {
   "cell_type": "markdown",
   "metadata": {
    "ExecuteTime": {
     "end_time": "2018-10-02T13:41:48.805072Z",
     "start_time": "2018-10-02T13:41:48.802014Z"
    }
   },
   "source": [
    "# Image Summary"
   ]
  },
  {
   "cell_type": "code",
   "execution_count": 10,
   "metadata": {
    "ExecuteTime": {
     "end_time": "2018-10-03T22:05:26.571265Z",
     "start_time": "2018-10-03T22:05:26.564897Z"
    }
   },
   "outputs": [],
   "source": [
    "def image_summary(label, tensor):\n",
    "    #tf.summary.image: https://www.tensorflow.org/api_docs/python/tf/summary/image\n",
    "    #Outputs a Summary protocol buffer with images.\n",
    "\n",
    "    tensor_reshaped = tf.reshape(tensor, [-1, 28, 28, 1])\n",
    "    return tf.summary.image(label, tensor_reshaped)"
   ]
  },
  {
   "cell_type": "markdown",
   "metadata": {
    "ExecuteTime": {
     "end_time": "2018-10-02T13:51:07.293398Z",
     "start_time": "2018-10-02T13:51:07.282274Z"
    }
   },
   "source": [
    "# Main Function"
   ]
  },
  {
   "cell_type": "code",
   "execution_count": 11,
   "metadata": {},
   "outputs": [],
   "source": [
    "import numpy as np\n",
    "def next_batch(data,labels,batchSize):\n",
    "    #Return a total of ‘batchSize‘ random samples\n",
    "    idx = np.arange(0 , len(data))\n",
    "    np.random.shuffle(idx)\n",
    "    idx = idx[:batchSize]\n",
    "    data_shuffle = np.array([data[i] for i in idx])\n",
    "    label_shuffle = np.array([labels[i] for i in idx])\n",
    "    return data_shuffle,label_shuffle"
   ]
  },
  {
   "cell_type": "code",
   "execution_count": 12,
   "metadata": {
    "ExecuteTime": {
     "end_time": "2018-10-03T22:07:06.083741Z",
     "start_time": "2018-10-03T22:05:26.575512Z"
    }
   },
   "outputs": [
    {
     "name": "stdout",
     "output_type": "stream",
     "text": [
      "('Epoch:', '0001', 'cost =', '11.407961537')\n",
      "('Validation Loss:', 9.671574)\n",
      "('Epoch:', '0002', 'cost =', '9.380851947')\n",
      "('Validation Loss:', 8.652035)\n",
      "('Epoch:', '0003', 'cost =', '8.338354625')\n",
      "('Validation Loss:', 7.7865415)\n",
      "('Epoch:', '0004', 'cost =', '7.738336594')\n",
      "('Validation Loss:', 7.167214)\n",
      "('Epoch:', '0005', 'cost =', '7.313517166')\n",
      "('Validation Loss:', 6.9313045)\n",
      "('Epoch:', '0006', 'cost =', '7.018869923')\n",
      "('Validation Loss:', 6.6640096)\n",
      "('Epoch:', '0007', 'cost =', '6.812001191')\n",
      "('Validation Loss:', 6.5993032)\n",
      "('Epoch:', '0008', 'cost =', '6.632904234')\n",
      "('Validation Loss:', 6.6748643)\n",
      "('Epoch:', '0009', 'cost =', '6.500066818')\n",
      "('Validation Loss:', 6.219827)\n",
      "('Epoch:', '0010', 'cost =', '6.342213203')\n",
      "('Validation Loss:', 6.1930814)\n",
      "('Epoch:', '0011', 'cost =', '6.082663245')\n",
      "('Validation Loss:', 5.924226)\n",
      "('Epoch:', '0012', 'cost =', '5.972418535')\n",
      "('Validation Loss:', 5.8927913)\n",
      "('Epoch:', '0013', 'cost =', '5.921537966')\n",
      "('Validation Loss:', 5.8279753)\n",
      "('Epoch:', '0014', 'cost =', '5.864110258')\n",
      "('Validation Loss:', 5.7725687)\n",
      "('Epoch:', '0015', 'cost =', '5.836787046')\n",
      "('Validation Loss:', 5.7100186)\n",
      "('Epoch:', '0016', 'cost =', '5.794407832')\n",
      "('Validation Loss:', 5.691051)\n",
      "('Epoch:', '0017', 'cost =', '5.771244204')\n",
      "('Validation Loss:', 5.690322)\n",
      "('Epoch:', '0018', 'cost =', '5.728649308')\n",
      "('Validation Loss:', 5.620345)\n",
      "('Epoch:', '0019', 'cost =', '5.707865721')\n",
      "('Validation Loss:', 5.6470194)\n",
      "('Epoch:', '0020', 'cost =', '5.683461379')\n",
      "('Validation Loss:', 5.639232)\n",
      "('Epoch:', '0021', 'cost =', '5.659878460')\n",
      "('Validation Loss:', 5.570575)\n",
      "('Epoch:', '0022', 'cost =', '5.638201453')\n",
      "('Validation Loss:', 5.6016765)\n",
      "('Epoch:', '0023', 'cost =', '5.612872829')\n",
      "('Validation Loss:', 5.5453906)\n",
      "('Epoch:', '0024', 'cost =', '5.598216029')\n",
      "('Validation Loss:', 5.477806)\n",
      "('Epoch:', '0025', 'cost =', '5.565816966')\n",
      "('Validation Loss:', 5.4352922)\n",
      "('Epoch:', '0026', 'cost =', '5.564445859')\n",
      "('Validation Loss:', 5.439118)\n",
      "('Epoch:', '0027', 'cost =', '5.538902375')\n",
      "('Validation Loss:', 5.4030337)\n",
      "('Epoch:', '0028', 'cost =', '5.523643544')\n",
      "('Validation Loss:', 5.437462)\n",
      "('Epoch:', '0029', 'cost =', '5.512809659')\n",
      "('Validation Loss:', 5.3733406)\n",
      "('Epoch:', '0030', 'cost =', '5.511376336')\n",
      "('Validation Loss:', 5.380169)\n",
      "('Epoch:', '0031', 'cost =', '5.487528429')\n",
      "('Validation Loss:', 5.3736343)\n",
      "('Epoch:', '0032', 'cost =', '5.474559831')\n",
      "('Validation Loss:', 5.3253374)\n",
      "('Epoch:', '0033', 'cost =', '5.463276623')\n",
      "('Validation Loss:', 5.3263)\n",
      "('Epoch:', '0034', 'cost =', '5.453938580')\n",
      "('Validation Loss:', 5.321669)\n",
      "('Epoch:', '0035', 'cost =', '5.431165897')\n",
      "('Validation Loss:', 5.310996)\n",
      "('Epoch:', '0036', 'cost =', '5.437641919')\n",
      "('Validation Loss:', 5.303931)\n",
      "('Epoch:', '0037', 'cost =', '5.431140848')\n",
      "('Validation Loss:', 5.262341)\n",
      "('Epoch:', '0038', 'cost =', '5.417393679')\n",
      "('Validation Loss:', 5.322117)\n",
      "('Epoch:', '0039', 'cost =', '5.410252410')\n",
      "('Validation Loss:', 5.2767487)\n",
      "('Epoch:', '0040', 'cost =', '5.405082214')\n",
      "('Validation Loss:', 5.343833)\n",
      "('Epoch:', '0041', 'cost =', '5.383937611')\n",
      "('Validation Loss:', 5.22578)\n",
      "('Epoch:', '0042', 'cost =', '5.367608966')\n",
      "('Validation Loss:', 5.209336)\n",
      "('Epoch:', '0043', 'cost =', '5.368238049')\n",
      "('Validation Loss:', 5.2150507)\n",
      "('Epoch:', '0044', 'cost =', '5.369366654')\n",
      "('Validation Loss:', 5.224432)\n",
      "('Epoch:', '0045', 'cost =', '5.351740078')\n",
      "('Validation Loss:', 5.2376103)\n",
      "('Epoch:', '0046', 'cost =', '5.351637913')\n",
      "('Validation Loss:', 5.215275)\n",
      "('Epoch:', '0047', 'cost =', '5.344708009')\n",
      "('Validation Loss:', 5.199948)\n",
      "('Epoch:', '0048', 'cost =', '5.331790935')\n",
      "('Validation Loss:', 5.1868963)\n",
      "('Epoch:', '0049', 'cost =', '5.333311879')\n",
      "('Validation Loss:', 5.2678685)\n",
      "('Epoch:', '0050', 'cost =', '5.325851449')\n",
      "('Validation Loss:', 5.161058)\n",
      "('Epoch:', '0051', 'cost =', '5.324670192')\n",
      "('Validation Loss:', 5.1959686)\n",
      "('Epoch:', '0052', 'cost =', '5.318185420')\n",
      "('Validation Loss:', 5.160157)\n",
      "('Epoch:', '0053', 'cost =', '5.303817971')\n",
      "('Validation Loss:', 5.2763524)\n",
      "('Epoch:', '0054', 'cost =', '5.306125117')\n",
      "('Validation Loss:', 5.1454053)\n",
      "('Epoch:', '0055', 'cost =', '5.294700701')\n",
      "('Validation Loss:', 5.148917)\n",
      "('Epoch:', '0056', 'cost =', '5.280848100')\n",
      "('Validation Loss:', 5.1752224)\n",
      "('Epoch:', '0057', 'cost =', '5.286119844')\n",
      "('Validation Loss:', 5.1435275)\n",
      "('Epoch:', '0058', 'cost =', '5.278759322')\n",
      "('Validation Loss:', 5.1431108)\n",
      "('Epoch:', '0059', 'cost =', '5.275640973')\n",
      "('Validation Loss:', 5.1306586)\n",
      "('Epoch:', '0060', 'cost =', '5.262760356')\n",
      "('Validation Loss:', 5.1311674)\n",
      "('Epoch:', '0061', 'cost =', '5.269110465')\n",
      "('Validation Loss:', 5.116118)\n",
      "('Epoch:', '0062', 'cost =', '5.254243519')\n",
      "('Validation Loss:', 5.134303)\n",
      "('Epoch:', '0063', 'cost =', '5.258592088')\n",
      "('Validation Loss:', 5.0990934)\n",
      "('Epoch:', '0064', 'cost =', '5.252281022')\n",
      "('Validation Loss:', 5.099481)\n",
      "('Epoch:', '0065', 'cost =', '5.243251724')\n",
      "('Validation Loss:', 5.1094728)\n",
      "('Epoch:', '0066', 'cost =', '5.236879155')\n",
      "('Validation Loss:', 5.105515)\n",
      "('Epoch:', '0067', 'cost =', '5.243199337')\n",
      "('Validation Loss:', 5.153647)\n",
      "('Epoch:', '0068', 'cost =', '5.223552693')\n",
      "('Validation Loss:', 5.105726)\n",
      "('Epoch:', '0069', 'cost =', '5.222032693')\n",
      "('Validation Loss:', 5.1152205)\n",
      "('Epoch:', '0070', 'cost =', '5.232105337')\n",
      "('Validation Loss:', 5.075736)\n",
      "('Epoch:', '0071', 'cost =', '5.227382394')\n",
      "('Validation Loss:', 5.105831)\n",
      "('Epoch:', '0072', 'cost =', '5.210286663')\n",
      "('Validation Loss:', 5.081403)\n",
      "('Epoch:', '0073', 'cost =', '5.211414005')\n",
      "('Validation Loss:', 5.101599)\n",
      "('Epoch:', '0074', 'cost =', '5.219608492')\n",
      "('Validation Loss:', 5.0925922)\n",
      "('Epoch:', '0075', 'cost =', '5.200522274')\n",
      "('Validation Loss:', 5.1189523)\n",
      "('Epoch:', '0076', 'cost =', '5.196449685')\n",
      "('Validation Loss:', 5.1053987)\n",
      "('Epoch:', '0077', 'cost =', '5.196795060')\n",
      "('Validation Loss:', 5.0791507)\n",
      "('Epoch:', '0078', 'cost =', '5.194668172')\n",
      "('Validation Loss:', 5.067738)\n",
      "('Epoch:', '0079', 'cost =', '5.195790184')\n",
      "('Validation Loss:', 5.06183)\n",
      "('Epoch:', '0080', 'cost =', '5.191591186')\n",
      "('Validation Loss:', 5.0699077)\n",
      "('Epoch:', '0081', 'cost =', '5.176611745')\n",
      "('Validation Loss:', 5.063554)\n",
      "('Epoch:', '0082', 'cost =', '5.179755294')\n",
      "('Validation Loss:', 5.074384)\n",
      "('Epoch:', '0083', 'cost =', '5.170936962')\n",
      "('Validation Loss:', 5.0652)\n",
      "('Epoch:', '0084', 'cost =', '5.184132612')\n",
      "('Validation Loss:', 5.0512934)\n",
      "('Epoch:', '0085', 'cost =', '5.168378523')\n",
      "('Validation Loss:', 5.0764604)\n",
      "('Epoch:', '0086', 'cost =', '5.162318095')\n",
      "('Validation Loss:', 5.0603533)\n",
      "('Epoch:', '0087', 'cost =', '5.169735265')\n",
      "('Validation Loss:', 5.02286)\n",
      "('Epoch:', '0088', 'cost =', '5.170917042')\n",
      "('Validation Loss:', 5.0857835)\n",
      "('Epoch:', '0089', 'cost =', '5.158078684')\n",
      "('Validation Loss:', 5.0565844)\n",
      "('Epoch:', '0090', 'cost =', '5.153521235')\n",
      "('Validation Loss:', 5.0333476)\n",
      "('Epoch:', '0091', 'cost =', '5.160730630')\n",
      "('Validation Loss:', 5.020524)\n",
      "('Epoch:', '0092', 'cost =', '5.153496625')\n",
      "('Validation Loss:', 5.0665493)\n",
      "('Epoch:', '0093', 'cost =', '5.148309910')\n",
      "('Validation Loss:', 5.0370545)\n",
      "('Epoch:', '0094', 'cost =', '5.143056374')\n",
      "('Validation Loss:', 5.031953)\n",
      "('Epoch:', '0095', 'cost =', '5.134877953')\n",
      "('Validation Loss:', 5.0643578)\n",
      "('Epoch:', '0096', 'cost =', '5.141175698')\n",
      "('Validation Loss:', 5.0331526)\n",
      "('Epoch:', '0097', 'cost =', '5.132706826')\n",
      "('Validation Loss:', 5.0534234)\n",
      "('Epoch:', '0098', 'cost =', '5.121631786')\n",
      "('Validation Loss:', 5.0166674)\n",
      "('Epoch:', '0099', 'cost =', '5.124900992')\n",
      "('Validation Loss:', 5.0048947)\n",
      "('Epoch:', '0100', 'cost =', '5.121361506')\n",
      "('Validation Loss:', 5.010543)\n",
      "('Epoch:', '0101', 'cost =', '5.121480735')\n",
      "('Validation Loss:', 5.0515027)\n",
      "('Epoch:', '0102', 'cost =', '5.121393895')\n",
      "('Validation Loss:', 5.032346)\n",
      "('Epoch:', '0103', 'cost =', '5.108756091')\n",
      "('Validation Loss:', 5.0630884)\n",
      "('Epoch:', '0104', 'cost =', '5.112001137')\n",
      "('Validation Loss:', 4.9996414)\n",
      "('Epoch:', '0105', 'cost =', '5.112012255')\n",
      "('Validation Loss:', 4.9882555)\n",
      "('Epoch:', '0106', 'cost =', '5.101848951')\n",
      "('Validation Loss:', 4.976923)\n",
      "('Epoch:', '0107', 'cost =', '5.103556090')\n",
      "('Validation Loss:', 5.0156846)\n",
      "('Epoch:', '0108', 'cost =', '5.087940122')\n",
      "('Validation Loss:', 5.1138606)\n",
      "('Epoch:', '0109', 'cost =', '5.102667617')\n"
     ]
    },
    {
     "name": "stdout",
     "output_type": "stream",
     "text": [
      "('Validation Loss:', 4.9957952)\n",
      "('Epoch:', '0110', 'cost =', '5.092931432')\n",
      "('Validation Loss:', 4.9999638)\n",
      "('Epoch:', '0111', 'cost =', '5.096907541')\n",
      "('Validation Loss:', 4.9997773)\n",
      "('Epoch:', '0112', 'cost =', '5.083269517')\n",
      "('Validation Loss:', 5.0067787)\n",
      "('Epoch:', '0113', 'cost =', '5.085005439')\n",
      "('Validation Loss:', 4.979644)\n",
      "('Epoch:', '0114', 'cost =', '5.079602943')\n",
      "('Validation Loss:', 5.005178)\n",
      "('Epoch:', '0115', 'cost =', '5.084962549')\n",
      "('Validation Loss:', 5.012705)\n",
      "('Epoch:', '0116', 'cost =', '5.079026103')\n",
      "('Validation Loss:', 4.988306)\n",
      "('Epoch:', '0117', 'cost =', '5.073567523')\n",
      "('Validation Loss:', 5.0448494)\n",
      "('Epoch:', '0118', 'cost =', '5.072142842')\n",
      "('Validation Loss:', 4.979096)\n",
      "('Epoch:', '0119', 'cost =', '5.074318487')\n",
      "('Validation Loss:', 5.0161295)\n",
      "('Epoch:', '0120', 'cost =', '5.073056249')\n",
      "('Validation Loss:', 4.973151)\n",
      "('Epoch:', '0121', 'cost =', '5.066904920')\n",
      "('Validation Loss:', 4.9615808)\n",
      "('Epoch:', '0122', 'cost =', '5.071223581')\n",
      "('Validation Loss:', 4.9594774)\n",
      "('Epoch:', '0123', 'cost =', '5.073294461')\n",
      "('Validation Loss:', 4.979906)\n",
      "('Epoch:', '0124', 'cost =', '5.055189019')\n",
      "('Validation Loss:', 4.9609137)\n",
      "('Epoch:', '0125', 'cost =', '5.064304656')\n",
      "('Validation Loss:', 4.9518256)\n",
      "('Epoch:', '0126', 'cost =', '5.064170051')\n",
      "('Validation Loss:', 4.9692273)\n",
      "('Epoch:', '0127', 'cost =', '5.054792636')\n",
      "('Validation Loss:', 4.9710994)\n",
      "('Epoch:', '0128', 'cost =', '5.056178108')\n",
      "('Validation Loss:', 4.9515605)\n",
      "('Epoch:', '0129', 'cost =', '5.043433362')\n",
      "('Validation Loss:', 4.983101)\n",
      "('Epoch:', '0130', 'cost =', '5.050228656')\n",
      "('Validation Loss:', 5.0011563)\n",
      "('Epoch:', '0131', 'cost =', '5.057032641')\n",
      "('Validation Loss:', 4.9652805)\n",
      "('Epoch:', '0132', 'cost =', '5.043466787')\n",
      "('Validation Loss:', 4.981094)\n",
      "('Epoch:', '0133', 'cost =', '5.041560622')\n",
      "('Validation Loss:', 4.982499)\n",
      "('Epoch:', '0134', 'cost =', '5.039817265')\n",
      "('Validation Loss:', 4.984065)\n",
      "('Epoch:', '0135', 'cost =', '5.036532283')\n",
      "('Validation Loss:', 4.9750695)\n",
      "('Epoch:', '0136', 'cost =', '5.041811549')\n",
      "('Validation Loss:', 5.026121)\n",
      "('Epoch:', '0137', 'cost =', '5.038565987')\n",
      "('Validation Loss:', 4.9751053)\n",
      "('Epoch:', '0138', 'cost =', '5.020972649')\n",
      "('Validation Loss:', 4.9640946)\n",
      "('Epoch:', '0139', 'cost =', '5.035755913')\n",
      "('Validation Loss:', 4.9447603)\n",
      "('Epoch:', '0140', 'cost =', '5.027093516')\n",
      "('Validation Loss:', 4.92995)\n",
      "('Epoch:', '0141', 'cost =', '5.031133811')\n",
      "('Validation Loss:', 4.9212813)\n",
      "('Epoch:', '0142', 'cost =', '5.022538795')\n",
      "('Validation Loss:', 4.9351735)\n",
      "('Epoch:', '0143', 'cost =', '5.025085801')\n",
      "('Validation Loss:', 4.918865)\n",
      "('Epoch:', '0144', 'cost =', '5.020948856')\n",
      "('Validation Loss:', 4.939712)\n",
      "('Epoch:', '0145', 'cost =', '5.016584755')\n",
      "('Validation Loss:', 4.9719887)\n",
      "('Epoch:', '0146', 'cost =', '5.014954085')\n",
      "('Validation Loss:', 4.925279)\n",
      "('Epoch:', '0147', 'cost =', '5.018501238')\n",
      "('Validation Loss:', 4.9455853)\n",
      "('Epoch:', '0148', 'cost =', '5.008302226')\n",
      "('Validation Loss:', 4.9453626)\n",
      "('Epoch:', '0149', 'cost =', '5.006667872')\n",
      "('Validation Loss:', 4.951265)\n",
      "('Epoch:', '0150', 'cost =', '5.012518001')\n",
      "('Validation Loss:', 4.9295673)\n",
      "('Epoch:', '0151', 'cost =', '5.018006521')\n",
      "('Validation Loss:', 4.925726)\n",
      "('Epoch:', '0152', 'cost =', '5.006592209')\n",
      "('Validation Loss:', 4.9208236)\n",
      "('Epoch:', '0153', 'cost =', '4.996989450')\n",
      "('Validation Loss:', 4.9315906)\n",
      "('Epoch:', '0154', 'cost =', '4.995503002')\n",
      "('Validation Loss:', 4.965512)\n",
      "('Epoch:', '0155', 'cost =', '4.994210044')\n",
      "('Validation Loss:', 4.9916015)\n",
      "('Epoch:', '0156', 'cost =', '4.988723416')\n",
      "('Validation Loss:', 4.9438)\n",
      "('Epoch:', '0157', 'cost =', '5.001003589')\n",
      "('Validation Loss:', 4.9676075)\n",
      "('Epoch:', '0158', 'cost =', '4.993953777')\n",
      "('Validation Loss:', 4.9500203)\n",
      "('Epoch:', '0159', 'cost =', '5.006476733')\n",
      "('Validation Loss:', 5.018435)\n",
      "('Epoch:', '0160', 'cost =', '4.998673448')\n",
      "('Validation Loss:', 4.9653077)\n",
      "('Epoch:', '0161', 'cost =', '4.985979372')\n",
      "('Validation Loss:', 4.8988304)\n",
      "('Epoch:', '0162', 'cost =', '4.983686933')\n",
      "('Validation Loss:', 4.915668)\n",
      "('Epoch:', '0163', 'cost =', '4.990763841')\n",
      "('Validation Loss:', 4.978347)\n",
      "('Epoch:', '0164', 'cost =', '4.985172547')\n",
      "('Validation Loss:', 4.9331155)\n",
      "('Epoch:', '0165', 'cost =', '4.997141639')\n",
      "('Validation Loss:', 4.931746)\n",
      "('Epoch:', '0166', 'cost =', '4.979952513')\n",
      "('Validation Loss:', 4.8972397)\n",
      "('Epoch:', '0167', 'cost =', '4.982884978')\n",
      "('Validation Loss:', 4.8931713)\n",
      "('Epoch:', '0168', 'cost =', '4.980435827')\n",
      "('Validation Loss:', 4.911718)\n",
      "('Epoch:', '0169', 'cost =', '4.980813189')\n",
      "('Validation Loss:', 4.9499803)\n",
      "('Epoch:', '0170', 'cost =', '4.980266146')\n",
      "('Validation Loss:', 4.921251)\n",
      "('Epoch:', '0171', 'cost =', '4.975927037')\n",
      "('Validation Loss:', 4.929114)\n",
      "('Epoch:', '0172', 'cost =', '4.975234867')\n",
      "('Validation Loss:', 4.9418287)\n",
      "('Epoch:', '0173', 'cost =', '4.977349775')\n",
      "('Validation Loss:', 4.8875885)\n",
      "('Epoch:', '0174', 'cost =', '4.972889273')\n",
      "('Validation Loss:', 4.915728)\n",
      "('Epoch:', '0175', 'cost =', '4.959120375')\n",
      "('Validation Loss:', 4.8853607)\n",
      "('Epoch:', '0176', 'cost =', '4.969686926')\n",
      "('Validation Loss:', 4.8996134)\n",
      "('Epoch:', '0177', 'cost =', '4.971162036')\n",
      "('Validation Loss:', 4.943516)\n",
      "('Epoch:', '0178', 'cost =', '4.968491231')\n",
      "('Validation Loss:', 4.9071565)\n",
      "('Epoch:', '0179', 'cost =', '4.961595015')\n",
      "('Validation Loss:', 4.9389753)\n",
      "('Epoch:', '0180', 'cost =', '4.956327253')\n",
      "('Validation Loss:', 4.91991)\n",
      "('Epoch:', '0181', 'cost =', '4.960534313')\n",
      "('Validation Loss:', 4.9696693)\n",
      "('Epoch:', '0182', 'cost =', '4.958807731')\n",
      "('Validation Loss:', 4.9337893)\n",
      "('Epoch:', '0183', 'cost =', '4.966145754')\n",
      "('Validation Loss:', 4.903208)\n",
      "('Epoch:', '0184', 'cost =', '4.957621793')\n",
      "('Validation Loss:', 4.945799)\n",
      "('Epoch:', '0185', 'cost =', '4.948486190')\n",
      "('Validation Loss:', 4.9370914)\n",
      "('Epoch:', '0186', 'cost =', '4.949472170')\n",
      "('Validation Loss:', 4.906883)\n",
      "('Epoch:', '0187', 'cost =', '4.957213326')\n",
      "('Validation Loss:', 4.9681354)\n",
      "('Epoch:', '0188', 'cost =', '4.951347953')\n",
      "('Validation Loss:', 4.974626)\n",
      "('Epoch:', '0189', 'cost =', '4.956336223')\n",
      "('Validation Loss:', 4.8914638)\n",
      "('Epoch:', '0190', 'cost =', '4.947982225')\n",
      "('Validation Loss:', 4.8826222)\n",
      "('Epoch:', '0191', 'cost =', '4.957068756')\n",
      "('Validation Loss:', 4.9584475)\n",
      "('Epoch:', '0192', 'cost =', '4.942299496')\n",
      "('Validation Loss:', 4.896233)\n",
      "('Epoch:', '0193', 'cost =', '4.945190752')\n",
      "('Validation Loss:', 4.87441)\n",
      "('Epoch:', '0194', 'cost =', '4.939591227')\n",
      "('Validation Loss:', 4.9463267)\n",
      "('Epoch:', '0195', 'cost =', '4.930676929')\n",
      "('Validation Loss:', 4.9229875)\n",
      "('Epoch:', '0196', 'cost =', '4.932618883')\n",
      "('Validation Loss:', 4.8646693)\n",
      "('Epoch:', '0197', 'cost =', '4.945609589')\n",
      "('Validation Loss:', 4.9009075)\n",
      "('Epoch:', '0198', 'cost =', '4.945913975')\n",
      "('Validation Loss:', 4.9201946)\n",
      "('Epoch:', '0199', 'cost =', '4.941847695')\n",
      "('Validation Loss:', 4.921477)\n",
      "('Epoch:', '0200', 'cost =', '4.931379565')\n",
      "('Validation Loss:', 5.1029453)\n",
      "Optimization Finished!\n",
      "('Test Loss:', 5.0073705)\n"
     ]
    }
   ],
   "source": [
    "if __name__ == '__main__':\n",
    "\n",
    "    #if a python file, please use the 4 lines bellow and comment the \"n_code = '1'\"\n",
    "    #parser = argparse.ArgumentParser(description='Autoencoder')\n",
    "    #parser.add_argument('n_code', nargs=1, type=str)\n",
    "    #args = parser.parse_args(['--help'])\n",
    "    #n_code = args.n_code[0]\n",
    "    \n",
    "    #if a jupyter file, please comment the 4 above and use the one bellow\n",
    "    n_code = '2'\n",
    "    \n",
    "    #feel free to change with your own \n",
    "    log_files_path = 'C:/Users/Ali/logs/'\n",
    "\n",
    "    with tf.Graph().as_default():\n",
    "\n",
    "        with tf.variable_scope(\"autoencoder_model\"):\n",
    "\n",
    "            #the input variables are first define as placeholder \n",
    "            # a placeholder is a variable/data which will be assigned later \n",
    "            # image vector & label, phase_train is a boolean \n",
    "            x = tf.placeholder(\"float\", [None, 784]) # MNIST data image of shape 28*28=784\n",
    "            \n",
    "            phase_train = tf.placeholder(tf.bool)\n",
    "            \n",
    "            #define the encoder \n",
    "            code = encoder(x, int(n_code), phase_train)\n",
    "            \n",
    "            #define the decoder\n",
    "            output = decoder(code, int(n_code), phase_train)\n",
    "            \n",
    "            #compute the loss \n",
    "            cost, train_summary_op = loss(output, x)\n",
    "\n",
    "            #initialize the value of the global_step variable \n",
    "            # recall: it is incremented by one each time the .minimise() is called\n",
    "            global_step = tf.Variable(0, name='global_step', trainable=False)\n",
    "\n",
    "            train_op = training(cost, global_step)\n",
    "\n",
    "            #evaluate the accuracy of the network (done on a validation set)\n",
    "            eval_op, in_image_op, out_image_op, val_summary_op = evaluate(output, x)\n",
    "\n",
    "            summary_op = tf.summary.merge_all()\n",
    "\n",
    "            #save and restore variables to and from checkpoints.\n",
    "            saver = tf.train.Saver(max_to_keep=200)\n",
    "\n",
    "            #defines a session\n",
    "            sess = tf.Session()\n",
    "\n",
    "            # summary writer\n",
    "            #https://www.tensorflow.org/api_docs/python/tf/summary/FileWriter\n",
    "            train_writer = tf.summary.FileWriter(log_files_path + 'mnist_autoencoder_hidden_' + n_code + '_logs/', graph=sess.graph)\n",
    "\n",
    "            val_writer   = tf.summary.FileWriter(log_files_path + 'mnist_autoencoder_hidden_' + n_code + '_logs/', graph=sess.graph)\n",
    "\n",
    "            #initialization of the variables\n",
    "            init_op = tf.global_variables_initializer()\n",
    "\n",
    "            sess.run(init_op)\n",
    "\n",
    "            # Training cycle\n",
    "            for epoch in range(training_epochs):\n",
    "\n",
    "                avg_cost = 0.\n",
    "                total_batch = int(mnist.train.num_examples/batch_size)\n",
    "                \n",
    "                # Loop over all batches\n",
    "                for i in range(total_batch):\n",
    "                    \n",
    "                    minibatch_x, minibatch_y = next_batch(mnist.train.images,mnist.train.labels,batch_size)\n",
    "                    \n",
    "                    # Fit training using batch data\n",
    "                    #the training is done using the training dataset\n",
    "                    _, new_cost, train_summary = sess.run([train_op, cost, train_summary_op], feed_dict={x: minibatch_x, phase_train: True})\n",
    "                    \n",
    "                    train_writer.add_summary(train_summary, sess.run(global_step))\n",
    "                    \n",
    "                    # Compute average loss\n",
    "                    avg_cost += new_cost/total_batch\n",
    "                \n",
    "                # Display logs per epoch step\n",
    "                if epoch % display_step == 0:\n",
    "                    print(\"Epoch:\", '%04d' % (epoch+1), \"cost =\", \"{:.9f}\".format(avg_cost))\n",
    "\n",
    "                    #the accuracy is evaluated using the validation dataset\n",
    "                    train_writer.add_summary(train_summary, sess.run(global_step))\n",
    "\n",
    "                    validation_loss, in_image, out_image, val_summary = sess.run([eval_op, in_image_op, out_image_op, val_summary_op], feed_dict={x: mnist.validation.images, phase_train: False})\n",
    "#                     val_writer.add_summary(in_image, sess.run(global_step))\n",
    "#                     val_writer.add_summary(out_image, sess.run(global_step))\n",
    "#                     val_writer.add_summary(val_summary, sess.run(global_step))\n",
    "                    print(\"Validation Loss:\", validation_loss)\n",
    "#                     print (out_image)\n",
    "                    #save to use later\n",
    "                    #https://www.tensorflow.org/api_docs/python/tf/train/Saver\n",
    "                    #saver.save(sess, log_files_path+'model-checkpoint', global_step=global_step)\n",
    "                    saver.save(sess, log_files_path + 'mnist_autoencoder_hidden_' + n_code + '_logs/model-checkpoint-' + '%04d' % (epoch+1), global_step=global_step)\n",
    "\n",
    "\n",
    "            print(\"Optimization Finished!\")\n",
    "\n",
    "            test_loss = sess.run(eval_op, feed_dict={x: mnist.test.images, phase_train: False})\n",
    "\n",
    "            print(\"Test Loss:\", test_loss)"
   ]
  },
  {
   "cell_type": "code",
   "execution_count": 13,
   "metadata": {},
   "outputs": [],
   "source": [
    "validation_loss, in_image, out_image, val_summary = sess.run([eval_op, in_image_op, out_image_op, val_summary_op], feed_dict={x: mnist.train.images[:5000], phase_train: False})\n"
   ]
  },
  {
   "cell_type": "code",
   "execution_count": 34,
   "metadata": {},
   "outputs": [],
   "source": [
    "encoder_images =  out_image"
   ]
  },
  {
   "cell_type": "markdown",
   "metadata": {},
   "source": [
    "# Generating samples from auto-encoders"
   ]
  },
  {
   "cell_type": "code",
   "execution_count": 37,
   "metadata": {},
   "outputs": [
    {
     "data": {
      "image/png": "[encoded data removed]",
      "text/plain": [
       "<matplotlib.figure.Figure at 0x7f327167bb50>"
      ]
     },
     "metadata": {
      "needs_background": "light"
     },
     "output_type": "display_data"
    }
   ],
   "source": [
    "import matplotlib.pyplot as plt\n",
    "import matplotlib.gridspec as gridspec\n",
    "plt.imshow(encoder_images[4].reshape(28,28), cmap='gray')\n",
    "plt.show()"
   ]
  },
  {
   "cell_type": "markdown",
   "metadata": {},
   "source": [
    "# GAN "
   ]
  },
  {
   "cell_type": "code",
   "execution_count": 38,
   "metadata": {},
   "outputs": [],
   "source": [
    "#MNIST data image of shape 28*28=784\n",
    "#mnist_size = 784\n",
    "X = tf.placeholder(tf.float32, shape=[None, 784])\n",
    "Z = tf.placeholder(tf.float32, shape=[None, 100])"
   ]
  },
  {
   "cell_type": "markdown",
   "metadata": {},
   "source": [
    "# Set up parameters for generator and discriminator"
   ]
  },
  {
   "cell_type": "code",
   "execution_count": 39,
   "metadata": {},
   "outputs": [],
   "source": [
    "# Generator\n",
    "# Define the variables for the generator, we will use them to build layers later\n",
    "# -------------------\n",
    "size_g_w1 = 100\n",
    "size_g_b1 = 128\n",
    "# A good way to decide the std for initializing the weights\n",
    "w1_std = 1.0/tf.sqrt(size_g_w1/2.0)\n",
    "\n",
    "G_W1 = tf.Variable(tf.random_normal(shape=[size_g_w1, size_g_b1], stddev=w1_std))\n",
    "G_b1 = tf.Variable(tf.zeros(shape=[size_g_b1]))\n",
    "\n",
    "size_g_w2 = 128\n",
    "size_g_b2 = 784\n",
    "w2_std = 1.0/tf.sqrt(size_g_w2/2.0)\n",
    "\n",
    "G_W2 = tf.Variable(tf.random_normal(shape=[size_g_w2, size_g_b2], stddev=w2_std))\n",
    "G_b2 = tf.Variable(tf.zeros(shape=[size_g_b2]))\n",
    "# theta_G and theta_D will be feeded to different optimizers later as \"var_list\", \n",
    "# since currently we have two networks instead of one now.\n",
    "theta_G = [G_W1, G_W2, G_b1, G_b2]\n",
    "\n",
    "# ====================\n",
    "# Discriminator\n",
    "# Define the variables for the discriminator\n",
    "# --------------------\n",
    "size_d_w1 = 784\n",
    "size_d_b1 = 128\n",
    "w1_std = 1.0/tf.sqrt(size_d_w1/2.0)\n",
    "\n",
    "D_W1 = tf.Variable(tf.random_normal(shape=[size_d_w1,size_d_b1], stddev=w1_std))\n",
    "D_b1 = tf.Variable(tf.zeros(shape=[size_d_b1]))\n",
    "\n",
    "size_d_w2 = 128\n",
    "size_d_b2 = 1\n",
    "w2_std = 1.0/tf.sqrt(size_d_w2/2.0)\n",
    "\n",
    "D_W2 = tf.Variable(tf.random_normal(shape=[size_d_w2,size_d_b2], stddev=w2_std))\n",
    "D_b2 = tf.Variable(tf.zeros(shape=[size_d_b2]))\n",
    "\n",
    "theta_D = [D_W1, D_W2, D_b1, D_b2]"
   ]
  },
  {
   "cell_type": "code",
   "execution_count": 40,
   "metadata": {},
   "outputs": [],
   "source": [
    "def generator(z):\n",
    "\n",
    "    G_h1 = tf.nn.relu(tf.matmul(z, G_W1) + G_b1)\n",
    "    G_logit = tf.matmul(G_h1, G_W2) + G_b2\n",
    "    G_prob = tf.nn.sigmoid(G_logit)\n",
    "\n",
    "    return G_prob, G_logit\n",
    "\n",
    "def discriminator(x):\n",
    "\n",
    "    D_h1 = tf.nn.relu(tf.matmul(x, D_W1) + D_b1)\n",
    "    D_logit = tf.matmul(D_h1, D_W2) + D_b2\n",
    "    D_prob = tf.nn.sigmoid(D_logit)\n",
    "\n",
    "    return D_prob, D_logit"
   ]
  },
  {
   "cell_type": "code",
   "execution_count": 41,
   "metadata": {},
   "outputs": [],
   "source": [
    "def sample_z(m, n):\n",
    "    # randomly generate samples for generator\n",
    "    return np.random.uniform(-1.0, 1.0, size = [m, n])"
   ]
  },
  {
   "cell_type": "code",
   "execution_count": 42,
   "metadata": {},
   "outputs": [],
   "source": [
    "def plot_sample(samples, size1, size2):\n",
    "    \n",
    "    fig1 = plt.figure(figsize=(size1, size2))\n",
    "    gs = gridspec.GridSpec(size1, size2)\n",
    "    gs.update(wspace=0.05, hspace=0.05)\n",
    "\n",
    "    for i, sample in enumerate(samples):\n",
    "        ax = plt.subplot(gs[i])\n",
    "        plt.axis('off')\n",
    "        ax.set_xticklabels([])\n",
    "        ax.set_yticklabels([])\n",
    "        ax.set_aspect('equal')\n",
    "        plt.imshow(sample.reshape(28, 28), cmap='gray')\n",
    "\n",
    "    return fig1"
   ]
  },
  {
   "cell_type": "code",
   "execution_count": 43,
   "metadata": {},
   "outputs": [
    {
     "name": "stdout",
     "output_type": "stream",
     "text": [
      "/home/shayaan/Columbia/sem_1/Deep-Learning-for-OR-and-FE/assign4\n"
     ]
    }
   ],
   "source": [
    "# Though it's not possible to get the path to the notebook by __file__, os.path is still very useful in dealing with paths and files\n",
    "# In this case, we can use an alternative: pathlib.Path\n",
    "\"\"\"\n",
    "code_dir   = os.path.dirname(__file__)\n",
    "\"\"\"\n",
    "\n",
    "code_dir = '/home/shayaan/Columbia/sem_1/Deep-Learning-for-OR-and-FE/assign4'\n",
    "\n",
    "print code_dir\n",
    "#create output_dir within the same path\n",
    "output_dir = code_dir+'/outputGANs_temp/'\n",
    "if not os.path.isdir(output_dir):\n",
    "    os.makedirs(output_dir)"
   ]
  },
  {
   "cell_type": "code",
   "execution_count": 44,
   "metadata": {},
   "outputs": [],
   "source": [
    "# Put randomly generated sample Z into the generator to create \"fake\" images\n",
    "G_sample, _ = generator(Z)\n",
    "# The result of discriminator of real and fake samples\n",
    "_, D_logit_real = discriminator(X)\n",
    "_, D_logit_fake = discriminator(G_sample)\n",
    "\n",
    "# generator loss \n",
    "# the goal of generator is to let discriminator make more mistakes on fake samples\n",
    "# tf.ones_like returns a tensor with all elements set to 1\n",
    "# 0 represent fake and 1 means real\n",
    "G_loss = tf.reduce_mean(tf.nn.sigmoid_cross_entropy_with_logits(logits=D_logit_fake, labels=tf.ones_like(D_logit_fake)))\n",
    "G_solver = tf.train.AdamOptimizer().minimize(G_loss, var_list=theta_G)\n",
    "\n",
    "# discriminator loss \n",
    "D_loss_real = tf.reduce_mean(tf.nn.sigmoid_cross_entropy_with_logits(logits=D_logit_real, labels=tf.ones_like(D_logit_real)))\n",
    "D_loss_fake = tf.reduce_mean(tf.nn.sigmoid_cross_entropy_with_logits(logits=D_logit_fake, labels=tf.zeros_like(D_logit_fake)))\n",
    "D_loss = D_loss_real + D_loss_fake\n",
    "D_solver = tf.train.AdamOptimizer().minimize(D_loss, var_list=theta_D)"
   ]
  },
  {
   "cell_type": "code",
   "execution_count": 51,
   "metadata": {},
   "outputs": [],
   "source": [
    "def generate_data(data):\n",
    "    images = np.concatenate((data,encoder_images),axis=0)\n",
    "    return images\n",
    "    "
   ]
  },
  {
   "cell_type": "code",
   "execution_count": 52,
   "metadata": {},
   "outputs": [],
   "source": [
    "def next_batch(data, batchSize):\n",
    "    #Return a total of ‘batchSize‘ random samples\n",
    "    idx = np.arange(0 , len(data))\n",
    "    np.random.shuffle(idx)\n",
    "    idx = idx[:batchSize]\n",
    "    data_shuffle = np.array([data[i] for i in idx])\n",
    "    return data_shuffle"
   ]
  },
  {
   "cell_type": "code",
   "execution_count": 55,
   "metadata": {},
   "outputs": [
    {
     "data": {
      "image/png": "[encoded data removed]",
      "text/plain": [
       "<matplotlib.figure.Figure at 0x7f3270e19f50>"
      ]
     },
     "metadata": {
      "needs_background": "light"
     },
     "output_type": "display_data"
    },
    {
     "name": "stdout",
     "output_type": "stream",
     "text": [
      "iteration: 0\n",
      "D_loss: 1.48\n",
      "G_loss: 2.475\n",
      "()\n"
     ]
    },
    {
     "data": {
      "image/png": "[encoded data removed]",
      "text/plain": [
       "<matplotlib.figure.Figure at 0x7f327075a810>"
      ]
     },
     "metadata": {
      "needs_background": "light"
     },
     "output_type": "display_data"
    },
    {
     "name": "stdout",
     "output_type": "stream",
     "text": [
      "iteration: 1000\n",
      "D_loss: 0.01991\n",
      "G_loss: 6.419\n",
      "()\n"
     ]
    },
    {
     "data": {
      "image/png": "[encoded data removed]",
      "text/plain": [
       "<matplotlib.figure.Figure at 0x7f326a97c910>"
      ]
     },
     "metadata": {
      "needs_background": "light"
     },
     "output_type": "display_data"
    },
    {
     "name": "stdout",
     "output_type": "stream",
     "text": [
      "iteration: 2000\n",
      "D_loss: 0.01617\n",
      "G_loss: 6.129\n",
      "()\n"
     ]
    },
    {
     "data": {
      "image/png": "[encoded data removed]",
      "text/plain": [
       "<matplotlib.figure.Figure at 0x7f326a27c290>"
      ]
     },
     "metadata": {
      "needs_background": "light"
     },
     "output_type": "display_data"
    },
    {
     "name": "stdout",
     "output_type": "stream",
     "text": [
      "iteration: 3000\n",
      "D_loss: 0.1341\n",
      "G_loss: 5.276\n",
      "()\n"
     ]
    },
    {
     "data": {
      "image/png": "[encoded data removed]",
      "text/plain": [
       "<matplotlib.figure.Figure at 0x7f3270d5fbd0>"
      ]
     },
     "metadata": {
      "needs_background": "light"
     },
     "output_type": "display_data"
    },
    {
     "name": "stdout",
     "output_type": "stream",
     "text": [
      "iteration: 4000\n",
      "D_loss: 0.3171\n",
      "G_loss: 5.171\n",
      "()\n"
     ]
    },
    {
     "data": {
      "image/png": "[encoded data removed]",
      "text/plain": [
       "<matplotlib.figure.Figure at 0x7f3271110d10>"
      ]
     },
     "metadata": {
      "needs_background": "light"
     },
     "output_type": "display_data"
    },
    {
     "name": "stdout",
     "output_type": "stream",
     "text": [
      "iteration: 5000\n",
      "D_loss: 0.2301\n",
      "G_loss: 5.34\n",
      "()\n"
     ]
    },
    {
     "data": {
      "image/png": "[encoded data removed]",
      "text/plain": [
       "<matplotlib.figure.Figure at 0x7f3271677490>"
      ]
     },
     "metadata": {
      "needs_background": "light"
     },
     "output_type": "display_data"
    },
    {
     "name": "stdout",
     "output_type": "stream",
     "text": [
      "iteration: 6000\n",
      "D_loss: 0.3942\n",
      "G_loss: 3.776\n",
      "()\n"
     ]
    },
    {
     "data": {
      "image/png": "[encoded data removed]",
      "text/plain": [
       "<matplotlib.figure.Figure at 0x7f326a4cb510>"
      ]
     },
     "metadata": {
      "needs_background": "light"
     },
     "output_type": "display_data"
    },
    {
     "name": "stdout",
     "output_type": "stream",
     "text": [
      "iteration: 7000\n",
      "D_loss: 0.6001\n",
      "G_loss: 4.125\n",
      "()\n"
     ]
    },
    {
     "data": {
      "image/png": "[encoded data removed]",
      "text/plain": [
       "<matplotlib.figure.Figure at 0x7f326a3b7b10>"
      ]
     },
     "metadata": {
      "needs_background": "light"
     },
     "output_type": "display_data"
    },
    {
     "name": "stdout",
     "output_type": "stream",
     "text": [
      "iteration: 8000\n",
      "D_loss: 0.7871\n",
      "G_loss: 4.009\n",
      "()\n"
     ]
    },
    {
     "data": {
      "image/png": "[encoded data removed]",
      "text/plain": [
       "<matplotlib.figure.Figure at 0x7f3270db5c10>"
      ]
     },
     "metadata": {
      "needs_background": "light"
     },
     "output_type": "display_data"
    },
    {
     "name": "stdout",
     "output_type": "stream",
     "text": [
      "iteration: 9000\n",
      "D_loss: 0.6252\n",
      "G_loss: 3.31\n",
      "()\n"
     ]
    },
    {
     "data": {
      "image/png": "[encoded data removed]",
      "text/plain": [
       "<matplotlib.figure.Figure at 0x7f32712ca910>"
      ]
     },
     "metadata": {
      "needs_background": "light"
     },
     "output_type": "display_data"
    },
    {
     "name": "stdout",
     "output_type": "stream",
     "text": [
      "iteration: 10000\n",
      "D_loss: 0.7426\n",
      "G_loss: 2.586\n",
      "()\n"
     ]
    },
    {
     "data": {
      "image/png": "[encoded data removed]",
      "text/plain": [
       "<matplotlib.figure.Figure at 0x7f3270bfed10>"
      ]
     },
     "metadata": {
      "needs_background": "light"
     },
     "output_type": "display_data"
    },
    {
     "name": "stdout",
     "output_type": "stream",
     "text": [
      "iteration: 11000\n",
      "D_loss: 0.6017\n",
      "G_loss: 3.837\n",
      "()\n"
     ]
    },
    {
     "data": {
      "image/png": "[encoded data removed]",
      "text/plain": [
       "<matplotlib.figure.Figure at 0x7f326a566810>"
      ]
     },
     "metadata": {
      "needs_background": "light"
     },
     "output_type": "display_data"
    },
    {
     "name": "stdout",
     "output_type": "stream",
     "text": [
      "iteration: 12000\n",
      "D_loss: 0.9056\n",
      "G_loss: 2.669\n",
      "()\n"
     ]
    },
    {
     "data": {
      "image/png": "[encoded data removed]",
      "text/plain": [
       "<matplotlib.figure.Figure at 0x7f326c1eb0d0>"
      ]
     },
     "metadata": {
      "needs_background": "light"
     },
     "output_type": "display_data"
    },
    {
     "name": "stdout",
     "output_type": "stream",
     "text": [
      "iteration: 13000\n",
      "D_loss: 0.7832\n",
      "G_loss: 2.805\n",
      "()\n"
     ]
    },
    {
     "data": {
      "image/png": "[encoded data removed]",
      "text/plain": [
       "<matplotlib.figure.Figure at 0x7f32709b8190>"
      ]
     },
     "metadata": {
      "needs_background": "light"
     },
     "output_type": "display_data"
    },
    {
     "name": "stdout",
     "output_type": "stream",
     "text": [
      "iteration: 14000\n",
      "D_loss: 0.7026\n",
      "G_loss: 2.539\n",
      "()\n"
     ]
    },
    {
     "data": {
      "image/png": "[encoded data removed]",
      "text/plain": [
       "<matplotlib.figure.Figure at 0x7f326a26acd0>"
      ]
     },
     "metadata": {
      "needs_background": "light"
     },
     "output_type": "display_data"
    },
    {
     "name": "stdout",
     "output_type": "stream",
     "text": [
      "iteration: 15000\n",
      "D_loss: 0.8778\n",
      "G_loss: 2.485\n",
      "()\n"
     ]
    },
    {
     "data": {
      "image/png": "[encoded data removed]",
      "text/plain": [
       "<matplotlib.figure.Figure at 0x7f326afa38d0>"
      ]
     },
     "metadata": {
      "needs_background": "light"
     },
     "output_type": "display_data"
    },
    {
     "name": "stdout",
     "output_type": "stream",
     "text": [
      "iteration: 16000\n",
      "D_loss: 0.8827\n",
      "G_loss: 2.876\n",
      "()\n"
     ]
    },
    {
     "data": {
      "image/png": "[encoded data removed]",
      "text/plain": [
       "<matplotlib.figure.Figure at 0x7f3270863810>"
      ]
     },
     "metadata": {
      "needs_background": "light"
     },
     "output_type": "display_data"
    },
    {
     "name": "stdout",
     "output_type": "stream",
     "text": [
      "iteration: 17000\n",
      "D_loss: 1.015\n",
      "G_loss: 2.322\n",
      "()\n"
     ]
    },
    {
     "data": {
      "image/png": "[encoded data removed]",
      "text/plain": [
       "<matplotlib.figure.Figure at 0x7f3269fa8990>"
      ]
     },
     "metadata": {
      "needs_background": "light"
     },
     "output_type": "display_data"
    },
    {
     "name": "stdout",
     "output_type": "stream",
     "text": [
      "iteration: 18000\n",
      "D_loss: 0.961\n",
      "G_loss: 2.657\n",
      "()\n"
     ]
    },
    {
     "data": {
      "image/png": "[encoded data removed]",
      "text/plain": [
       "<matplotlib.figure.Figure at 0x7f326a045190>"
      ]
     },
     "metadata": {
      "needs_background": "light"
     },
     "output_type": "display_data"
    },
    {
     "name": "stdout",
     "output_type": "stream",
     "text": [
      "iteration: 19000\n",
      "D_loss: 0.7554\n",
      "G_loss: 2.662\n",
      "()\n"
     ]
    },
    {
     "data": {
      "image/png": "[encoded data removed]",
      "text/plain": [
       "<matplotlib.figure.Figure at 0x7f326aceacd0>"
      ]
     },
     "metadata": {
      "needs_background": "light"
     },
     "output_type": "display_data"
    },
    {
     "name": "stdout",
     "output_type": "stream",
     "text": [
      "iteration: 20000\n",
      "D_loss: 0.9006\n",
      "G_loss: 2.907\n",
      "()\n"
     ]
    },
    {
     "data": {
      "image/png": "[encoded data removed]",
      "text/plain": [
       "<matplotlib.figure.Figure at 0x7f3269e2e8d0>"
      ]
     },
     "metadata": {
      "needs_background": "light"
     },
     "output_type": "display_data"
    },
    {
     "name": "stdout",
     "output_type": "stream",
     "text": [
      "iteration: 21000\n",
      "D_loss: 0.7535\n",
      "G_loss: 2.381\n",
      "()\n"
     ]
    },
    {
     "data": {
      "image/png": "[encoded data removed]",
      "text/plain": [
       "<matplotlib.figure.Figure at 0x7f3269f52810>"
      ]
     },
     "metadata": {
      "needs_background": "light"
     },
     "output_type": "display_data"
    },
    {
     "name": "stdout",
     "output_type": "stream",
     "text": [
      "iteration: 22000\n",
      "D_loss: 1.082\n",
      "G_loss: 1.757\n",
      "()\n"
     ]
    },
    {
     "data": {
      "image/png": "[encoded data removed]",
      "text/plain": [
       "<matplotlib.figure.Figure at 0x7f326c19f250>"
      ]
     },
     "metadata": {
      "needs_background": "light"
     },
     "output_type": "display_data"
    },
    {
     "name": "stdout",
     "output_type": "stream",
     "text": [
      "iteration: 23000\n",
      "D_loss: 0.9378\n",
      "G_loss: 2.148\n",
      "()\n"
     ]
    },
    {
     "data": {
      "image/png": "[encoded data removed]",
      "text/plain": [
       "<matplotlib.figure.Figure at 0x7f32710c6190>"
      ]
     },
     "metadata": {
      "needs_background": "light"
     },
     "output_type": "display_data"
    },
    {
     "name": "stdout",
     "output_type": "stream",
     "text": [
      "iteration: 24000\n",
      "D_loss: 0.7956\n",
      "G_loss: 2.426\n",
      "()\n"
     ]
    },
    {
     "data": {
      "image/png": "[encoded data removed]",
      "text/plain": [
       "<matplotlib.figure.Figure at 0x7f326a6eacd0>"
      ]
     },
     "metadata": {
      "needs_background": "light"
     },
     "output_type": "display_data"
    },
    {
     "name": "stdout",
     "output_type": "stream",
     "text": [
      "iteration: 25000\n",
      "D_loss: 0.7955\n",
      "G_loss: 2.088\n",
      "()\n"
     ]
    },
    {
     "data": {
      "image/png": "[encoded data removed]",
      "text/plain": [
       "<matplotlib.figure.Figure at 0x7f3269d72190>"
      ]
     },
     "metadata": {
      "needs_background": "light"
     },
     "output_type": "display_data"
    },
    {
     "name": "stdout",
     "output_type": "stream",
     "text": [
      "iteration: 26000\n",
      "D_loss: 1.002\n",
      "G_loss: 1.976\n",
      "()\n"
     ]
    },
    {
     "data": {
      "image/png": "[encoded data removed]",
      "text/plain": [
       "<matplotlib.figure.Figure at 0x7f3269e29810>"
      ]
     },
     "metadata": {
      "needs_background": "light"
     },
     "output_type": "display_data"
    },
    {
     "name": "stdout",
     "output_type": "stream",
     "text": [
      "iteration: 27000\n",
      "D_loss: 0.984\n",
      "G_loss: 1.849\n",
      "()\n"
     ]
    },
    {
     "data": {
      "image/png": "[encoded data removed]",
      "text/plain": [
       "<matplotlib.figure.Figure at 0x7f32716017d0>"
      ]
     },
     "metadata": {
      "needs_background": "light"
     },
     "output_type": "display_data"
    },
    {
     "name": "stdout",
     "output_type": "stream",
     "text": [
      "iteration: 28000\n",
      "D_loss: 0.7322\n",
      "G_loss: 2.332\n",
      "()\n"
     ]
    },
    {
     "data": {
      "image/png": "[encoded data removed]",
      "text/plain": [
       "<matplotlib.figure.Figure at 0x7f326a4e6190>"
      ]
     },
     "metadata": {
      "needs_background": "light"
     },
     "output_type": "display_data"
    },
    {
     "name": "stdout",
     "output_type": "stream",
     "text": [
      "iteration: 29000\n",
      "D_loss: 0.8509\n",
      "G_loss: 2.133\n",
      "()\n"
     ]
    },
    {
     "data": {
      "image/png": "[encoded data removed]",
      "text/plain": [
       "<matplotlib.figure.Figure at 0x7f326a96acd0>"
      ]
     },
     "metadata": {
      "needs_background": "light"
     },
     "output_type": "display_data"
    },
    {
     "name": "stdout",
     "output_type": "stream",
     "text": [
      "iteration: 30000\n",
      "D_loss: 0.8745\n",
      "G_loss: 2.087\n",
      "()\n"
     ]
    },
    {
     "data": {
      "image/png": "[encoded data removed]",
      "text/plain": [
       "<matplotlib.figure.Figure at 0x7f3269ff3d10>"
      ]
     },
     "metadata": {
      "needs_background": "light"
     },
     "output_type": "display_data"
    },
    {
     "name": "stdout",
     "output_type": "stream",
     "text": [
      "iteration: 31000\n",
      "D_loss: 0.6516\n",
      "G_loss: 1.957\n",
      "()\n"
     ]
    },
    {
     "data": {
      "image/png": "[encoded data removed]",
      "text/plain": [
       "<matplotlib.figure.Figure at 0x7f3270ab5810>"
      ]
     },
     "metadata": {
      "needs_background": "light"
     },
     "output_type": "display_data"
    },
    {
     "name": "stdout",
     "output_type": "stream",
     "text": [
      "iteration: 32000\n",
      "D_loss: 0.8662\n",
      "G_loss: 1.995\n",
      "()\n"
     ]
    },
    {
     "data": {
      "image/png": "[encoded data removed]",
      "text/plain": [
       "<matplotlib.figure.Figure at 0x7f3271621490>"
      ]
     },
     "metadata": {
      "needs_background": "light"
     },
     "output_type": "display_data"
    },
    {
     "name": "stdout",
     "output_type": "stream",
     "text": [
      "iteration: 33000\n",
      "D_loss: 1.063\n",
      "G_loss: 1.958\n",
      "()\n"
     ]
    },
    {
     "data": {
      "image/png": "[encoded data removed]",
      "text/plain": [
       "<matplotlib.figure.Figure at 0x7f326a408190>"
      ]
     },
     "metadata": {
      "needs_background": "light"
     },
     "output_type": "display_data"
    },
    {
     "name": "stdout",
     "output_type": "stream",
     "text": [
      "iteration: 34000\n",
      "D_loss: 0.7455\n",
      "G_loss: 2.047\n",
      "()\n"
     ]
    },
    {
     "data": {
      "image/png": "[encoded data removed]",
      "text/plain": [
       "<matplotlib.figure.Figure at 0x7f326afa9cd0>"
      ]
     },
     "metadata": {
      "needs_background": "light"
     },
     "output_type": "display_data"
    },
    {
     "name": "stdout",
     "output_type": "stream",
     "text": [
      "iteration: 35000\n",
      "D_loss: 0.9089\n",
      "G_loss: 2.21\n",
      "()\n"
     ]
    },
    {
     "data": {
      "image/png": "[encoded data removed]",
      "text/plain": [
       "<matplotlib.figure.Figure at 0x7f326adf28d0>"
      ]
     },
     "metadata": {
      "needs_background": "light"
     },
     "output_type": "display_data"
    },
    {
     "name": "stdout",
     "output_type": "stream",
     "text": [
      "iteration: 36000\n",
      "D_loss: 0.8083\n",
      "G_loss: 2.271\n",
      "()\n"
     ]
    },
    {
     "data": {
      "image/png": "[encoded data removed]",
      "text/plain": [
       "<matplotlib.figure.Figure at 0x7f326a4ae810>"
      ]
     },
     "metadata": {
      "needs_background": "light"
     },
     "output_type": "display_data"
    },
    {
     "name": "stdout",
     "output_type": "stream",
     "text": [
      "iteration: 37000\n",
      "D_loss: 0.8935\n",
      "G_loss: 2.147\n",
      "()\n"
     ]
    },
    {
     "data": {
      "image/png": "[encoded data removed]",
      "text/plain": [
       "<matplotlib.figure.Figure at 0x7f326c1eb050>"
      ]
     },
     "metadata": {
      "needs_background": "light"
     },
     "output_type": "display_data"
    },
    {
     "name": "stdout",
     "output_type": "stream",
     "text": [
      "iteration: 38000\n",
      "D_loss: 1.282\n",
      "G_loss: 1.479\n",
      "()\n"
     ]
    },
    {
     "data": {
      "image/png": "[encoded data removed]",
      "text/plain": [
       "<matplotlib.figure.Figure at 0x7f326ab1d190>"
      ]
     },
     "metadata": {
      "needs_background": "light"
     },
     "output_type": "display_data"
    },
    {
     "name": "stdout",
     "output_type": "stream",
     "text": [
      "iteration: 39000\n",
      "D_loss: 1.12\n",
      "G_loss: 2.437\n",
      "()\n"
     ]
    },
    {
     "data": {
      "image/png": "[encoded data removed]",
      "text/plain": [
       "<matplotlib.figure.Figure at 0x7f326a96acd0>"
      ]
     },
     "metadata": {
      "needs_background": "light"
     },
     "output_type": "display_data"
    },
    {
     "name": "stdout",
     "output_type": "stream",
     "text": [
      "iteration: 40000\n",
      "D_loss: 1.053\n",
      "G_loss: 1.632\n",
      "()\n"
     ]
    },
    {
     "data": {
      "image/png": "[encoded data removed]",
      "text/plain": [
       "<matplotlib.figure.Figure at 0x7f3269fce8d0>"
      ]
     },
     "metadata": {
      "needs_background": "light"
     },
     "output_type": "display_data"
    },
    {
     "name": "stdout",
     "output_type": "stream",
     "text": [
      "iteration: 41000\n",
      "D_loss: 0.9285\n",
      "G_loss: 1.54\n",
      "()\n"
     ]
    },
    {
     "data": {
      "image/png": "[encoded data removed]",
      "text/plain": [
       "<matplotlib.figure.Figure at 0x7f326ab87810>"
      ]
     },
     "metadata": {
      "needs_background": "light"
     },
     "output_type": "display_data"
    },
    {
     "name": "stdout",
     "output_type": "stream",
     "text": [
      "iteration: 42000\n",
      "D_loss: 0.968\n",
      "G_loss: 1.457\n",
      "()\n"
     ]
    },
    {
     "data": {
      "image/png": "[encoded data removed]",
      "text/plain": [
       "<matplotlib.figure.Figure at 0x7f329a521c50>"
      ]
     },
     "metadata": {
      "needs_background": "light"
     },
     "output_type": "display_data"
    },
    {
     "name": "stdout",
     "output_type": "stream",
     "text": [
      "iteration: 43000\n",
      "D_loss: 0.7843\n",
      "G_loss: 1.932\n",
      "()\n"
     ]
    },
    {
     "data": {
      "image/png": "[encoded data removed]",
      "text/plain": [
       "<matplotlib.figure.Figure at 0x7f326a88f190>"
      ]
     },
     "metadata": {
      "needs_background": "light"
     },
     "output_type": "display_data"
    },
    {
     "name": "stdout",
     "output_type": "stream",
     "text": [
      "iteration: 44000\n",
      "D_loss: 1.07\n",
      "G_loss: 1.82\n",
      "()\n"
     ]
    },
    {
     "data": {
      "image/png": "[encoded data removed]",
      "text/plain": [
       "<matplotlib.figure.Figure at 0x7f326ab2acd0>"
      ]
     },
     "metadata": {
      "needs_background": "light"
     },
     "output_type": "display_data"
    },
    {
     "name": "stdout",
     "output_type": "stream",
     "text": [
      "iteration: 45000\n",
      "D_loss: 0.7235\n",
      "G_loss: 1.95\n",
      "()\n"
     ]
    },
    {
     "data": {
      "image/png": "[encoded data removed]",
      "text/plain": [
       "<matplotlib.figure.Figure at 0x7f3269d751d0>"
      ]
     },
     "metadata": {
      "needs_background": "light"
     },
     "output_type": "display_data"
    },
    {
     "name": "stdout",
     "output_type": "stream",
     "text": [
      "iteration: 46000\n",
      "D_loss: 0.9559\n",
      "G_loss: 2.154\n",
      "()\n"
     ]
    },
    {
     "data": {
      "image/png": "[encoded data removed]",
      "text/plain": [
       "<matplotlib.figure.Figure at 0x7f3269db5390>"
      ]
     },
     "metadata": {
      "needs_background": "light"
     },
     "output_type": "display_data"
    },
    {
     "name": "stdout",
     "output_type": "stream",
     "text": [
      "iteration: 47000\n",
      "D_loss: 0.9698\n",
      "G_loss: 1.729\n",
      "()\n"
     ]
    },
    {
     "data": {
      "image/png": "[encoded data removed]",
      "text/plain": [
       "<matplotlib.figure.Figure at 0x7f326b0c80d0>"
      ]
     },
     "metadata": {
      "needs_background": "light"
     },
     "output_type": "display_data"
    },
    {
     "name": "stdout",
     "output_type": "stream",
     "text": [
      "iteration: 48000\n",
      "D_loss: 0.7852\n",
      "G_loss: 1.728\n",
      "()\n"
     ]
    },
    {
     "data": {
      "image/png": "[encoded data removed]",
      "text/plain": [
       "<matplotlib.figure.Figure at 0x7f326a458190>"
      ]
     },
     "metadata": {
      "needs_background": "light"
     },
     "output_type": "display_data"
    },
    {
     "name": "stdout",
     "output_type": "stream",
     "text": [
      "iteration: 49000\n",
      "D_loss: 0.8925\n",
      "G_loss: 1.732\n",
      "()\n"
     ]
    },
    {
     "data": {
      "image/png": "[encoded data removed]",
      "text/plain": [
       "<matplotlib.figure.Figure at 0x7f326abebcd0>"
      ]
     },
     "metadata": {
      "needs_background": "light"
     },
     "output_type": "display_data"
    },
    {
     "name": "stdout",
     "output_type": "stream",
     "text": [
      "iteration: 50000\n",
      "D_loss: 0.7887\n",
      "G_loss: 1.967\n",
      "()\n"
     ]
    },
    {
     "data": {
      "image/png": "[encoded data removed]",
      "text/plain": [
       "<matplotlib.figure.Figure at 0x7f326a3338d0>"
      ]
     },
     "metadata": {
      "needs_background": "light"
     },
     "output_type": "display_data"
    },
    {
     "name": "stdout",
     "output_type": "stream",
     "text": [
      "iteration: 51000\n",
      "D_loss: 0.8452\n",
      "G_loss: 1.439\n",
      "()\n"
     ]
    },
    {
     "data": {
      "image/png": "[encoded data removed]",
      "text/plain": [
       "<matplotlib.figure.Figure at 0x7f326a254810>"
      ]
     },
     "metadata": {
      "needs_background": "light"
     },
     "output_type": "display_data"
    },
    {
     "name": "stdout",
     "output_type": "stream",
     "text": [
      "iteration: 52000\n",
      "D_loss: 0.7664\n",
      "G_loss: 1.852\n",
      "()\n"
     ]
    },
    {
     "data": {
      "image/png": "[encoded data removed]",
      "text/plain": [
       "<matplotlib.figure.Figure at 0x7f326c1b4b10>"
      ]
     },
     "metadata": {
      "needs_background": "light"
     },
     "output_type": "display_data"
    },
    {
     "name": "stdout",
     "output_type": "stream",
     "text": [
      "iteration: 53000\n",
      "D_loss: 1.031\n",
      "G_loss: 1.813\n",
      "()\n"
     ]
    },
    {
     "data": {
      "image/png": "[encoded data removed]",
      "text/plain": [
       "<matplotlib.figure.Figure at 0x7f327087a190>"
      ]
     },
     "metadata": {
      "needs_background": "light"
     },
     "output_type": "display_data"
    },
    {
     "name": "stdout",
     "output_type": "stream",
     "text": [
      "iteration: 54000\n",
      "D_loss: 1.006\n",
      "G_loss: 1.762\n",
      "()\n"
     ]
    },
    {
     "data": {
      "image/png": "[encoded data removed]",
      "text/plain": [
       "<matplotlib.figure.Figure at 0x7f326ae2acd0>"
      ]
     },
     "metadata": {
      "needs_background": "light"
     },
     "output_type": "display_data"
    },
    {
     "name": "stdout",
     "output_type": "stream",
     "text": [
      "iteration: 55000\n",
      "D_loss: 0.9076\n",
      "G_loss: 1.628\n",
      "()\n"
     ]
    },
    {
     "data": {
      "image/png": "[encoded data removed]",
      "text/plain": [
       "<matplotlib.figure.Figure at 0x7f32705cc8d0>"
      ]
     },
     "metadata": {
      "needs_background": "light"
     },
     "output_type": "display_data"
    },
    {
     "name": "stdout",
     "output_type": "stream",
     "text": [
      "iteration: 56000\n",
      "D_loss: 0.8442\n",
      "G_loss: 1.692\n",
      "()\n"
     ]
    },
    {
     "data": {
      "image/png": "[encoded data removed]",
      "text/plain": [
       "<matplotlib.figure.Figure at 0x7f32708e3810>"
      ]
     },
     "metadata": {
      "needs_background": "light"
     },
     "output_type": "display_data"
    },
    {
     "name": "stdout",
     "output_type": "stream",
     "text": [
      "iteration: 57000\n",
      "D_loss: 0.7555\n",
      "G_loss: 2.063\n",
      "()\n"
     ]
    },
    {
     "data": {
      "image/png": "[encoded data removed]",
      "text/plain": [
       "<matplotlib.figure.Figure at 0x7f327949aa90>"
      ]
     },
     "metadata": {
      "needs_background": "light"
     },
     "output_type": "display_data"
    },
    {
     "name": "stdout",
     "output_type": "stream",
     "text": [
      "iteration: 58000\n",
      "D_loss: 0.7594\n",
      "G_loss: 2.195\n",
      "()\n"
     ]
    },
    {
     "data": {
      "image/png": "[encoded data removed]",
      "text/plain": [
       "<matplotlib.figure.Figure at 0x7f326a70d190>"
      ]
     },
     "metadata": {
      "needs_background": "light"
     },
     "output_type": "display_data"
    },
    {
     "name": "stdout",
     "output_type": "stream",
     "text": [
      "iteration: 59000\n",
      "D_loss: 0.9099\n",
      "G_loss: 1.76\n",
      "()\n"
     ]
    },
    {
     "data": {
      "image/png": "[encoded data removed]",
      "text/plain": [
       "<matplotlib.figure.Figure at 0x7f326ad6acd0>"
      ]
     },
     "metadata": {
      "needs_background": "light"
     },
     "output_type": "display_data"
    },
    {
     "name": "stdout",
     "output_type": "stream",
     "text": [
      "iteration: 60000\n",
      "D_loss: 1.015\n",
      "G_loss: 1.942\n",
      "()\n"
     ]
    },
    {
     "data": {
      "image/png": "[encoded data removed]",
      "text/plain": [
       "<matplotlib.figure.Figure at 0x7f3271213d10>"
      ]
     },
     "metadata": {
      "needs_background": "light"
     },
     "output_type": "display_data"
    },
    {
     "name": "stdout",
     "output_type": "stream",
     "text": [
      "iteration: 61000\n",
      "D_loss: 0.6531\n",
      "G_loss: 2.076\n",
      "()\n"
     ]
    },
    {
     "data": {
      "image/png": "[encoded data removed]",
      "text/plain": [
       "<matplotlib.figure.Figure at 0x7f326a7b4810>"
      ]
     },
     "metadata": {
      "needs_background": "light"
     },
     "output_type": "display_data"
    },
    {
     "name": "stdout",
     "output_type": "stream",
     "text": [
      "iteration: 62000\n",
      "D_loss: 0.9321\n",
      "G_loss: 1.836\n",
      "()\n"
     ]
    },
    {
     "data": {
      "image/png": "[encoded data removed]",
      "text/plain": [
       "<matplotlib.figure.Figure at 0x7f326c1eb0d0>"
      ]
     },
     "metadata": {
      "needs_background": "light"
     },
     "output_type": "display_data"
    },
    {
     "name": "stdout",
     "output_type": "stream",
     "text": [
      "iteration: 63000\n",
      "D_loss: 0.8931\n",
      "G_loss: 1.773\n",
      "()\n"
     ]
    },
    {
     "data": {
      "image/png": "[encoded data removed]",
      "text/plain": [
       "<matplotlib.figure.Figure at 0x7f326a9fc190>"
      ]
     },
     "metadata": {
      "needs_background": "light"
     },
     "output_type": "display_data"
    },
    {
     "name": "stdout",
     "output_type": "stream",
     "text": [
      "iteration: 64000\n",
      "D_loss: 0.7287\n",
      "G_loss: 1.99\n",
      "()\n"
     ]
    },
    {
     "data": {
      "image/png": "[encoded data removed]",
      "text/plain": [
       "<matplotlib.figure.Figure at 0x7f326adaacd0>"
      ]
     },
     "metadata": {
      "needs_background": "light"
     },
     "output_type": "display_data"
    },
    {
     "name": "stdout",
     "output_type": "stream",
     "text": [
      "iteration: 65000\n",
      "D_loss: 0.7009\n",
      "G_loss: 1.81\n",
      "()\n"
     ]
    },
    {
     "data": {
      "image/png": "[encoded data removed]",
      "text/plain": [
       "<matplotlib.figure.Figure at 0x7f327832b890>"
      ]
     },
     "metadata": {
      "needs_background": "light"
     },
     "output_type": "display_data"
    },
    {
     "name": "stdout",
     "output_type": "stream",
     "text": [
      "iteration: 66000\n",
      "D_loss: 0.7532\n",
      "G_loss: 1.894\n",
      "()\n"
     ]
    },
    {
     "data": {
      "image/png": "[encoded data removed]",
      "text/plain": [
       "<matplotlib.figure.Figure at 0x7f326c1d8e90>"
      ]
     },
     "metadata": {
      "needs_background": "light"
     },
     "output_type": "display_data"
    },
    {
     "name": "stdout",
     "output_type": "stream",
     "text": [
      "iteration: 67000\n",
      "D_loss: 0.6282\n",
      "G_loss: 2.17\n",
      "()\n"
     ]
    },
    {
     "data": {
      "image/png": "[encoded data removed]",
      "text/plain": [
       "<matplotlib.figure.Figure at 0x7f326ac92d90>"
      ]
     },
     "metadata": {
      "needs_background": "light"
     },
     "output_type": "display_data"
    },
    {
     "name": "stdout",
     "output_type": "stream",
     "text": [
      "iteration: 68000\n",
      "D_loss: 0.7542\n",
      "G_loss: 2.448\n",
      "()\n"
     ]
    },
    {
     "data": {
      "image/png": "[encoded data removed]",
      "text/plain": [
       "<matplotlib.figure.Figure at 0x7f326a71a890>"
      ]
     },
     "metadata": {
      "needs_background": "light"
     },
     "output_type": "display_data"
    },
    {
     "name": "stdout",
     "output_type": "stream",
     "text": [
      "iteration: 69000\n",
      "D_loss: 0.7594\n",
      "G_loss: 2.275\n",
      "()\n"
     ]
    },
    {
     "data": {
      "image/png": "[encoded data removed]",
      "text/plain": [
       "<matplotlib.figure.Figure at 0x7f32708d7850>"
      ]
     },
     "metadata": {
      "needs_background": "light"
     },
     "output_type": "display_data"
    },
    {
     "name": "stdout",
     "output_type": "stream",
     "text": [
      "iteration: 70000\n",
      "D_loss: 0.7142\n",
      "G_loss: 2.206\n",
      "()\n"
     ]
    },
    {
     "data": {
      "image/png": "[encoded data removed]",
      "text/plain": [
       "<matplotlib.figure.Figure at 0x7f32704c0890>"
      ]
     },
     "metadata": {
      "needs_background": "light"
     },
     "output_type": "display_data"
    },
    {
     "name": "stdout",
     "output_type": "stream",
     "text": [
      "iteration: 71000\n",
      "D_loss: 0.8168\n",
      "G_loss: 2.126\n",
      "()\n"
     ]
    },
    {
     "data": {
      "image/png": "[encoded data removed]",
      "text/plain": [
       "<matplotlib.figure.Figure at 0x7f326a2ab710>"
      ]
     },
     "metadata": {
      "needs_background": "light"
     },
     "output_type": "display_data"
    },
    {
     "name": "stdout",
     "output_type": "stream",
     "text": [
      "iteration: 72000\n",
      "D_loss: 0.7355\n",
      "G_loss: 2.008\n",
      "()\n"
     ]
    },
    {
     "data": {
      "image/png": "[encoded data removed]",
      "text/plain": [
       "<matplotlib.figure.Figure at 0x7f3272027cd0>"
      ]
     },
     "metadata": {
      "needs_background": "light"
     },
     "output_type": "display_data"
    },
    {
     "name": "stdout",
     "output_type": "stream",
     "text": [
      "iteration: 73000\n",
      "D_loss: 0.7752\n",
      "G_loss: 2.257\n",
      "()\n"
     ]
    },
    {
     "data": {
      "image/png": "[encoded data removed]",
      "text/plain": [
       "<matplotlib.figure.Figure at 0x7f3271285e90>"
      ]
     },
     "metadata": {
      "needs_background": "light"
     },
     "output_type": "display_data"
    },
    {
     "name": "stdout",
     "output_type": "stream",
     "text": [
      "iteration: 74000\n",
      "D_loss: 0.7559\n",
      "G_loss: 2.488\n",
      "()\n"
     ]
    },
    {
     "data": {
      "image/png": "[encoded data removed]",
      "text/plain": [
       "<matplotlib.figure.Figure at 0x7f326ae6ac50>"
      ]
     },
     "metadata": {
      "needs_background": "light"
     },
     "output_type": "display_data"
    },
    {
     "name": "stdout",
     "output_type": "stream",
     "text": [
      "iteration: 75000\n",
      "D_loss: 0.8305\n",
      "G_loss: 2.406\n",
      "()\n"
     ]
    },
    {
     "data": {
      "image/png": "[encoded data removed]",
      "text/plain": [
       "<matplotlib.figure.Figure at 0x7f326ab9d5d0>"
      ]
     },
     "metadata": {
      "needs_background": "light"
     },
     "output_type": "display_data"
    },
    {
     "name": "stdout",
     "output_type": "stream",
     "text": [
      "iteration: 76000\n",
      "D_loss: 0.6786\n",
      "G_loss: 2.542\n",
      "()\n"
     ]
    },
    {
     "data": {
      "image/png": "[encoded data removed]",
      "text/plain": [
       "<matplotlib.figure.Figure at 0x7f326acf1d50>"
      ]
     },
     "metadata": {
      "needs_background": "light"
     },
     "output_type": "display_data"
    },
    {
     "name": "stdout",
     "output_type": "stream",
     "text": [
      "iteration: 77000\n",
      "D_loss: 0.7281\n",
      "G_loss: 2.273\n",
      "()\n"
     ]
    },
    {
     "data": {
      "image/png": "[encoded data removed]",
      "text/plain": [
       "<matplotlib.figure.Figure at 0x7f326b0dbc10>"
      ]
     },
     "metadata": {
      "needs_background": "light"
     },
     "output_type": "display_data"
    },
    {
     "name": "stdout",
     "output_type": "stream",
     "text": [
      "iteration: 78000\n",
      "D_loss: 0.7114\n",
      "G_loss: 2.301\n",
      "()\n"
     ]
    },
    {
     "data": {
      "image/png": "[encoded data removed]",
      "text/plain": [
       "<matplotlib.figure.Figure at 0x7f3269e2fe10>"
      ]
     },
     "metadata": {
      "needs_background": "light"
     },
     "output_type": "display_data"
    },
    {
     "name": "stdout",
     "output_type": "stream",
     "text": [
      "iteration: 79000\n",
      "D_loss: 0.7336\n",
      "G_loss: 2.219\n",
      "()\n"
     ]
    },
    {
     "data": {
      "image/png": "[encoded data removed]",
      "text/plain": [
       "<matplotlib.figure.Figure at 0x7f327083bb10>"
      ]
     },
     "metadata": {
      "needs_background": "light"
     },
     "output_type": "display_data"
    },
    {
     "name": "stdout",
     "output_type": "stream",
     "text": [
      "iteration: 80000\n",
      "D_loss: 0.7358\n",
      "G_loss: 2.463\n",
      "()\n"
     ]
    },
    {
     "data": {
      "image/png": "[encoded data removed]",
      "text/plain": [
       "<matplotlib.figure.Figure at 0x7f3271658190>"
      ]
     },
     "metadata": {
      "needs_background": "light"
     },
     "output_type": "display_data"
    },
    {
     "name": "stdout",
     "output_type": "stream",
     "text": [
      "iteration: 81000\n",
      "D_loss: 0.7522\n",
      "G_loss: 2.584\n",
      "()\n"
     ]
    },
    {
     "data": {
      "image/png": "[encoded data removed]",
      "text/plain": [
       "<matplotlib.figure.Figure at 0x7f326a71ed50>"
      ]
     },
     "metadata": {
      "needs_background": "light"
     },
     "output_type": "display_data"
    },
    {
     "name": "stdout",
     "output_type": "stream",
     "text": [
      "iteration: 82000\n",
      "D_loss: 0.685\n",
      "G_loss: 2.454\n",
      "()\n"
     ]
    },
    {
     "data": {
      "image/png": "[encoded data removed]",
      "text/plain": [
       "<matplotlib.figure.Figure at 0x7f326c1bb710>"
      ]
     },
     "metadata": {
      "needs_background": "light"
     },
     "output_type": "display_data"
    },
    {
     "name": "stdout",
     "output_type": "stream",
     "text": [
      "iteration: 83000\n",
      "D_loss: 0.4713\n",
      "G_loss: 2.418\n",
      "()\n"
     ]
    },
    {
     "data": {
      "image/png": "[encoded data removed]",
      "text/plain": [
       "<matplotlib.figure.Figure at 0x7f3269d4ce10>"
      ]
     },
     "metadata": {
      "needs_background": "light"
     },
     "output_type": "display_data"
    },
    {
     "name": "stdout",
     "output_type": "stream",
     "text": [
      "iteration: 84000\n",
      "D_loss: 0.6058\n",
      "G_loss: 2.461\n",
      "()\n"
     ]
    },
    {
     "data": {
      "image/png": "[encoded data removed]",
      "text/plain": [
       "<matplotlib.figure.Figure at 0x7f327087bb10>"
      ]
     },
     "metadata": {
      "needs_background": "light"
     },
     "output_type": "display_data"
    },
    {
     "name": "stdout",
     "output_type": "stream",
     "text": [
      "iteration: 85000\n",
      "D_loss: 0.6324\n",
      "G_loss: 2.563\n",
      "()\n"
     ]
    },
    {
     "data": {
      "image/png": "[encoded data removed]",
      "text/plain": [
       "<matplotlib.figure.Figure at 0x7f326a7655d0>"
      ]
     },
     "metadata": {
      "needs_background": "light"
     },
     "output_type": "display_data"
    },
    {
     "name": "stdout",
     "output_type": "stream",
     "text": [
      "iteration: 86000\n",
      "D_loss: 0.5416\n",
      "G_loss: 2.27\n",
      "()\n"
     ]
    },
    {
     "data": {
      "image/png": "[encoded data removed]",
      "text/plain": [
       "<matplotlib.figure.Figure at 0x7f326a44cd50>"
      ]
     },
     "metadata": {
      "needs_background": "light"
     },
     "output_type": "display_data"
    },
    {
     "name": "stdout",
     "output_type": "stream",
     "text": [
      "iteration: 87000\n",
      "D_loss: 0.6775\n",
      "G_loss: 2.471\n",
      "()\n"
     ]
    },
    {
     "data": {
      "image/png": "[encoded data removed]",
      "text/plain": [
       "<matplotlib.figure.Figure at 0x7f326c1c2710>"
      ]
     },
     "metadata": {
      "needs_background": "light"
     },
     "output_type": "display_data"
    },
    {
     "name": "stdout",
     "output_type": "stream",
     "text": [
      "iteration: 88000\n",
      "D_loss: 0.6642\n",
      "G_loss: 2.388\n",
      "()\n"
     ]
    },
    {
     "data": {
      "image/png": "[encoded data removed]",
      "text/plain": [
       "<matplotlib.figure.Figure at 0x7f3269fede10>"
      ]
     },
     "metadata": {
      "needs_background": "light"
     },
     "output_type": "display_data"
    },
    {
     "name": "stdout",
     "output_type": "stream",
     "text": [
      "iteration: 89000\n",
      "D_loss: 0.5726\n",
      "G_loss: 2.929\n",
      "()\n"
     ]
    },
    {
     "data": {
      "image/png": "[encoded data removed]",
      "text/plain": [
       "<matplotlib.figure.Figure at 0x7f32704bbb10>"
      ]
     },
     "metadata": {
      "needs_background": "light"
     },
     "output_type": "display_data"
    },
    {
     "name": "stdout",
     "output_type": "stream",
     "text": [
      "iteration: 90000\n",
      "D_loss: 0.7729\n",
      "G_loss: 2.812\n",
      "()\n"
     ]
    },
    {
     "data": {
      "image/png": "[encoded data removed]",
      "text/plain": [
       "<matplotlib.figure.Figure at 0x7f326a1635d0>"
      ]
     },
     "metadata": {
      "needs_background": "light"
     },
     "output_type": "display_data"
    },
    {
     "name": "stdout",
     "output_type": "stream",
     "text": [
      "iteration: 91000\n",
      "D_loss: 0.5115\n",
      "G_loss: 2.512\n",
      "()\n"
     ]
    },
    {
     "data": {
      "image/png": "[encoded data removed]",
      "text/plain": [
       "<matplotlib.figure.Figure at 0x7f3270729d50>"
      ]
     },
     "metadata": {
      "needs_background": "light"
     },
     "output_type": "display_data"
    },
    {
     "name": "stdout",
     "output_type": "stream",
     "text": [
      "iteration: 92000\n",
      "D_loss: 0.6075\n",
      "G_loss: 2.838\n",
      "()\n"
     ]
    },
    {
     "data": {
      "image/png": "[encoded data removed]",
      "text/plain": [
       "<matplotlib.figure.Figure at 0x7f326c18fd90>"
      ]
     },
     "metadata": {
      "needs_background": "light"
     },
     "output_type": "display_data"
    },
    {
     "name": "stdout",
     "output_type": "stream",
     "text": [
      "iteration: 93000\n",
      "D_loss: 0.6363\n",
      "G_loss: 2.408\n",
      "()\n"
     ]
    },
    {
     "data": {
      "image/png": "[encoded data removed]",
      "text/plain": [
       "<matplotlib.figure.Figure at 0x7f3269e6fe10>"
      ]
     },
     "metadata": {
      "needs_background": "light"
     },
     "output_type": "display_data"
    },
    {
     "name": "stdout",
     "output_type": "stream",
     "text": [
      "iteration: 94000\n",
      "D_loss: 0.5827\n",
      "G_loss: 2.659\n",
      "()\n"
     ]
    },
    {
     "data": {
      "image/png": "[encoded data removed]",
      "text/plain": [
       "<matplotlib.figure.Figure at 0x7f327053bb10>"
      ]
     },
     "metadata": {
      "needs_background": "light"
     },
     "output_type": "display_data"
    },
    {
     "name": "stdout",
     "output_type": "stream",
     "text": [
      "iteration: 95000\n",
      "D_loss: 0.587\n",
      "G_loss: 2.664\n",
      "()\n"
     ]
    },
    {
     "data": {
      "image/png": "[encoded data removed]",
      "text/plain": [
       "<matplotlib.figure.Figure at 0x7f326a31f5d0>"
      ]
     },
     "metadata": {
      "needs_background": "light"
     },
     "output_type": "display_data"
    },
    {
     "name": "stdout",
     "output_type": "stream",
     "text": [
      "iteration: 96000\n",
      "D_loss: 0.52\n",
      "G_loss: 2.611\n",
      "()\n"
     ]
    },
    {
     "data": {
      "image/png": "[encoded data removed]",
      "text/plain": [
       "<matplotlib.figure.Figure at 0x7f3270bd1e10>"
      ]
     },
     "metadata": {
      "needs_background": "light"
     },
     "output_type": "display_data"
    },
    {
     "name": "stdout",
     "output_type": "stream",
     "text": [
      "iteration: 97000\n",
      "D_loss: 0.4948\n",
      "G_loss: 2.63\n",
      "()\n"
     ]
    },
    {
     "data": {
      "image/png": "[encoded data removed]",
      "text/plain": [
       "<matplotlib.figure.Figure at 0x7f327160c8d0>"
      ]
     },
     "metadata": {
      "needs_background": "light"
     },
     "output_type": "display_data"
    },
    {
     "name": "stdout",
     "output_type": "stream",
     "text": [
      "iteration: 98000\n",
      "D_loss: 0.4732\n",
      "G_loss: 2.52\n",
      "()\n"
     ]
    },
    {
     "data": {
      "image/png": "[encoded data removed]",
      "text/plain": [
       "<matplotlib.figure.Figure at 0x7f32704f3450>"
      ]
     },
     "metadata": {
      "needs_background": "light"
     },
     "output_type": "display_data"
    },
    {
     "name": "stdout",
     "output_type": "stream",
     "text": [
      "iteration: 99000\n",
      "D_loss: 0.4932\n",
      "G_loss: 2.737\n",
      "()\n"
     ]
    }
   ],
   "source": [
    "sess = tf.Session()\n",
    "sess.run(tf.global_variables_initializer())\n",
    "\n",
    "batch_size = 128\n",
    "# the dimension of the random samples\n",
    "z_dim = 100\n",
    "result_freq = 1000\n",
    "# plot generators' output every figure_iter step\n",
    "figure_iter = 1000\n",
    "max_iter = 100000\n",
    "size1 = 5\n",
    "size2 = 5\n",
    "i = 0\n",
    "img = generate_data(mnist.train.images[:5000])\n",
    "for iter in range(max_iter):\n",
    "    \n",
    "    if iter % figure_iter == 0:\n",
    "        \n",
    "        # G_sample is a sample from the generator\n",
    "        samples = sess.run(G_sample, feed_dict={Z: sample_z(size1*size2, z_dim)})\n",
    "\n",
    "        fig1 = plot_sample(samples, size1, size2)\n",
    "        plt.savefig(output_dir + 'GANs' + str(i) + '.png', bbox_inches='tight')\n",
    "        i += 1\n",
    "        plt.close(fig1)\n",
    "\n",
    "    batch_xs = next_batch(img,batch_size)\n",
    "    \n",
    "    _, discriminator_loss = sess.run([D_solver, D_loss], feed_dict={X: batch_xs, Z: sample_z(batch_size, z_dim)})\n",
    "    _, generator_loss     = sess.run([G_solver, G_loss], feed_dict={Z: sample_z(batch_size, z_dim)})\n",
    "\n",
    "    if iter % result_freq == 0:\n",
    "        first_image = batch_xs[0]\n",
    "        first_image = np.array(first_image, dtype='float')\n",
    "        pixels = first_image.reshape((28, 28))\n",
    "        plt.imshow(pixels, cmap='gray')\n",
    "        plt.show()\n",
    "        print('iteration: {}'.format(iter))\n",
    "        print('D_loss: {:0.4}'.format(discriminator_loss))\n",
    "        print('G_loss: {:0.4}'.format(generator_loss))\n",
    "        print()"
   ]
  },
  {
   "cell_type": "code",
   "execution_count": null,
   "metadata": {},
   "outputs": [],
   "source": []
  },
  {
   "cell_type": "code",
   "execution_count": null,
   "metadata": {},
   "outputs": [],
   "source": []
  }
 ],
 "metadata": {
  "kernelspec": {
   "display_name": "Python 2",
   "language": "python",
   "name": "python2"
  },
  "language_info": {
   "codemirror_mode": {
    "name": "ipython",
    "version": 2
   },
   "file_extension": ".py",
   "mimetype": "text/x-python",
   "name": "python",
   "nbconvert_exporter": "python",
   "pygments_lexer": "ipython2",
   "version": "2.7.12"
  },
  "toc": {
   "nav_menu": {},
   "number_sections": true,
   "sideBar": true,
   "skip_h1_title": false,
   "title_cell": "Table of Contents",
   "title_sidebar": "Contents",
   "toc_cell": false,
   "toc_position": {},
   "toc_section_display": true,
   "toc_window_display": false
  },
  "varInspector": {
   "cols": {
    "lenName": 16,
    "lenType": 16,
    "lenVar": 40
   },
   "kernels_config": {
    "python": {
     "delete_cmd_postfix": "",
     "delete_cmd_prefix": "del ",
     "library": "var_list.py",
     "varRefreshCmd": "print(var_dic_list())"
    },
    "r": {
     "delete_cmd_postfix": ") ",
     "delete_cmd_prefix": "rm(",
     "library": "var_list.r",
     "varRefreshCmd": "cat(var_dic_list()) "
    }
   },
   "types_to_exclude": [
    "module",
    "function",
    "builtin_function_or_method",
    "instance",
    "_Feature"
   ],
   "window_display": false
  }
 },
 "nbformat": 4,
 "nbformat_minor": 2
}
